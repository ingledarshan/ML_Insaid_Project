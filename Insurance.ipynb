{
 "cells": [
  {
   "cell_type": "code",
   "execution_count": 2,
   "metadata": {},
   "outputs": [],
   "source": [
    "import pandas as pd\n",
    "import seaborn as sns\n",
    "import matplotlib.pyplot as plt\n",
    "\n",
    "\n",
    "from sklearn import metrics\n",
    "\n",
    "import numpy as np\n",
    "\n",
    "# allow plots to appear directly in the notebook\n",
    "%matplotlib inline\n",
    "\n",
    "import warnings\n",
    "warnings.filterwarnings('ignore')                   # To suppress all the warnings in the notebook.\n",
    "\n",
    "# ------------------------------------------------------"
   ]
  },
  {
   "cell_type": "code",
   "execution_count": 3,
   "metadata": {},
   "outputs": [
    {
     "data": {
      "text/html": [
       "<div>\n",
       "<style scoped>\n",
       "    .dataframe tbody tr th:only-of-type {\n",
       "        vertical-align: middle;\n",
       "    }\n",
       "\n",
       "    .dataframe tbody tr th {\n",
       "        vertical-align: top;\n",
       "    }\n",
       "\n",
       "    .dataframe thead th {\n",
       "        text-align: right;\n",
       "    }\n",
       "</style>\n",
       "<table border=\"1\" class=\"dataframe\">\n",
       "  <thead>\n",
       "    <tr style=\"text-align: right;\">\n",
       "      <th></th>\n",
       "      <th>Id</th>\n",
       "      <th>Product_Info_1</th>\n",
       "      <th>Product_Info_2</th>\n",
       "      <th>Product_Info_3</th>\n",
       "      <th>Product_Info_4</th>\n",
       "      <th>Product_Info_5</th>\n",
       "      <th>Product_Info_6</th>\n",
       "      <th>Product_Info_7</th>\n",
       "      <th>Ins_Age</th>\n",
       "      <th>Ht</th>\n",
       "      <th>...</th>\n",
       "      <th>Medical_Keyword_40</th>\n",
       "      <th>Medical_Keyword_41</th>\n",
       "      <th>Medical_Keyword_42</th>\n",
       "      <th>Medical_Keyword_43</th>\n",
       "      <th>Medical_Keyword_44</th>\n",
       "      <th>Medical_Keyword_45</th>\n",
       "      <th>Medical_Keyword_46</th>\n",
       "      <th>Medical_Keyword_47</th>\n",
       "      <th>Medical_Keyword_48</th>\n",
       "      <th>Response</th>\n",
       "    </tr>\n",
       "  </thead>\n",
       "  <tbody>\n",
       "    <tr>\n",
       "      <th>59376</th>\n",
       "      <td>79142</td>\n",
       "      <td>1</td>\n",
       "      <td>D1</td>\n",
       "      <td>10</td>\n",
       "      <td>0.230769</td>\n",
       "      <td>2</td>\n",
       "      <td>3</td>\n",
       "      <td>1</td>\n",
       "      <td>0.074627</td>\n",
       "      <td>0.709091</td>\n",
       "      <td>...</td>\n",
       "      <td>0</td>\n",
       "      <td>0</td>\n",
       "      <td>0</td>\n",
       "      <td>0</td>\n",
       "      <td>0</td>\n",
       "      <td>0</td>\n",
       "      <td>0</td>\n",
       "      <td>0</td>\n",
       "      <td>0</td>\n",
       "      <td>4</td>\n",
       "    </tr>\n",
       "    <tr>\n",
       "      <th>59377</th>\n",
       "      <td>79143</td>\n",
       "      <td>1</td>\n",
       "      <td>D3</td>\n",
       "      <td>26</td>\n",
       "      <td>0.230769</td>\n",
       "      <td>2</td>\n",
       "      <td>3</td>\n",
       "      <td>1</td>\n",
       "      <td>0.432836</td>\n",
       "      <td>0.800000</td>\n",
       "      <td>...</td>\n",
       "      <td>0</td>\n",
       "      <td>0</td>\n",
       "      <td>0</td>\n",
       "      <td>0</td>\n",
       "      <td>0</td>\n",
       "      <td>0</td>\n",
       "      <td>0</td>\n",
       "      <td>0</td>\n",
       "      <td>0</td>\n",
       "      <td>7</td>\n",
       "    </tr>\n",
       "    <tr>\n",
       "      <th>59378</th>\n",
       "      <td>79144</td>\n",
       "      <td>1</td>\n",
       "      <td>E1</td>\n",
       "      <td>26</td>\n",
       "      <td>0.076923</td>\n",
       "      <td>2</td>\n",
       "      <td>3</td>\n",
       "      <td>1</td>\n",
       "      <td>0.104478</td>\n",
       "      <td>0.745455</td>\n",
       "      <td>...</td>\n",
       "      <td>0</td>\n",
       "      <td>0</td>\n",
       "      <td>0</td>\n",
       "      <td>0</td>\n",
       "      <td>0</td>\n",
       "      <td>0</td>\n",
       "      <td>0</td>\n",
       "      <td>0</td>\n",
       "      <td>0</td>\n",
       "      <td>8</td>\n",
       "    </tr>\n",
       "    <tr>\n",
       "      <th>59379</th>\n",
       "      <td>79145</td>\n",
       "      <td>1</td>\n",
       "      <td>D2</td>\n",
       "      <td>10</td>\n",
       "      <td>0.230769</td>\n",
       "      <td>2</td>\n",
       "      <td>3</td>\n",
       "      <td>1</td>\n",
       "      <td>0.507463</td>\n",
       "      <td>0.690909</td>\n",
       "      <td>...</td>\n",
       "      <td>1</td>\n",
       "      <td>0</td>\n",
       "      <td>0</td>\n",
       "      <td>0</td>\n",
       "      <td>0</td>\n",
       "      <td>0</td>\n",
       "      <td>0</td>\n",
       "      <td>0</td>\n",
       "      <td>0</td>\n",
       "      <td>8</td>\n",
       "    </tr>\n",
       "    <tr>\n",
       "      <th>59380</th>\n",
       "      <td>79146</td>\n",
       "      <td>1</td>\n",
       "      <td>A8</td>\n",
       "      <td>26</td>\n",
       "      <td>0.076923</td>\n",
       "      <td>2</td>\n",
       "      <td>3</td>\n",
       "      <td>1</td>\n",
       "      <td>0.447761</td>\n",
       "      <td>0.781818</td>\n",
       "      <td>...</td>\n",
       "      <td>0</td>\n",
       "      <td>0</td>\n",
       "      <td>0</td>\n",
       "      <td>0</td>\n",
       "      <td>0</td>\n",
       "      <td>0</td>\n",
       "      <td>0</td>\n",
       "      <td>0</td>\n",
       "      <td>0</td>\n",
       "      <td>7</td>\n",
       "    </tr>\n",
       "  </tbody>\n",
       "</table>\n",
       "<p>5 rows × 128 columns</p>\n",
       "</div>"
      ],
      "text/plain": [
       "          Id  Product_Info_1 Product_Info_2  Product_Info_3  Product_Info_4  \\\n",
       "59376  79142               1             D1              10        0.230769   \n",
       "59377  79143               1             D3              26        0.230769   \n",
       "59378  79144               1             E1              26        0.076923   \n",
       "59379  79145               1             D2              10        0.230769   \n",
       "59380  79146               1             A8              26        0.076923   \n",
       "\n",
       "       Product_Info_5  Product_Info_6  Product_Info_7   Ins_Age        Ht  \\\n",
       "59376               2               3               1  0.074627  0.709091   \n",
       "59377               2               3               1  0.432836  0.800000   \n",
       "59378               2               3               1  0.104478  0.745455   \n",
       "59379               2               3               1  0.507463  0.690909   \n",
       "59380               2               3               1  0.447761  0.781818   \n",
       "\n",
       "       ...  Medical_Keyword_40  Medical_Keyword_41  Medical_Keyword_42  \\\n",
       "59376  ...                   0                   0                   0   \n",
       "59377  ...                   0                   0                   0   \n",
       "59378  ...                   0                   0                   0   \n",
       "59379  ...                   1                   0                   0   \n",
       "59380  ...                   0                   0                   0   \n",
       "\n",
       "       Medical_Keyword_43  Medical_Keyword_44  Medical_Keyword_45  \\\n",
       "59376                   0                   0                   0   \n",
       "59377                   0                   0                   0   \n",
       "59378                   0                   0                   0   \n",
       "59379                   0                   0                   0   \n",
       "59380                   0                   0                   0   \n",
       "\n",
       "       Medical_Keyword_46  Medical_Keyword_47  Medical_Keyword_48  Response  \n",
       "59376                   0                   0                   0         4  \n",
       "59377                   0                   0                   0         7  \n",
       "59378                   0                   0                   0         8  \n",
       "59379                   0                   0                   0         8  \n",
       "59380                   0                   0                   0         7  \n",
       "\n",
       "[5 rows x 128 columns]"
      ]
     },
     "execution_count": 3,
     "metadata": {},
     "output_type": "execute_result"
    }
   ],
   "source": [
    "data = pd.read_csv('https://raw.githubusercontent.com/insaid2018/Term-2/master/Projects/insurance_data.csv',error_bad_lines=False )\n",
    "data.tail()"
   ]
  },
  {
   "cell_type": "code",
   "execution_count": 4,
   "metadata": {},
   "outputs": [
    {
     "data": {
      "text/plain": [
       "Index(['Id', 'Product_Info_1', 'Product_Info_2', 'Product_Info_3',\n",
       "       'Product_Info_4', 'Product_Info_5', 'Product_Info_6', 'Product_Info_7',\n",
       "       'Ins_Age', 'Ht',\n",
       "       ...\n",
       "       'Medical_Keyword_40', 'Medical_Keyword_41', 'Medical_Keyword_42',\n",
       "       'Medical_Keyword_43', 'Medical_Keyword_44', 'Medical_Keyword_45',\n",
       "       'Medical_Keyword_46', 'Medical_Keyword_47', 'Medical_Keyword_48',\n",
       "       'Response'],\n",
       "      dtype='object', length=128)"
      ]
     },
     "execution_count": 4,
     "metadata": {},
     "output_type": "execute_result"
    }
   ],
   "source": [
    "data.columns"
   ]
  },
  {
   "cell_type": "code",
   "execution_count": 5,
   "metadata": {},
   "outputs": [
    {
     "data": {
      "text/plain": [
       "(59381, 128)"
      ]
     },
     "execution_count": 5,
     "metadata": {},
     "output_type": "execute_result"
    }
   ],
   "source": [
    "data.shape"
   ]
  },
  {
   "cell_type": "code",
   "execution_count": 6,
   "metadata": {},
   "outputs": [
    {
     "name": "stdout",
     "output_type": "stream",
     "text": [
      "<class 'pandas.core.frame.DataFrame'>\n",
      "RangeIndex: 59381 entries, 0 to 59380\n",
      "Columns: 128 entries, Id to Response\n",
      "dtypes: float64(18), int64(109), object(1)\n",
      "memory usage: 58.0+ MB\n"
     ]
    }
   ],
   "source": [
    "data.info()"
   ]
  },
  {
   "cell_type": "code",
   "execution_count": 7,
   "metadata": {},
   "outputs": [
    {
     "data": {
      "text/html": [
       "<div>\n",
       "<style scoped>\n",
       "    .dataframe tbody tr th:only-of-type {\n",
       "        vertical-align: middle;\n",
       "    }\n",
       "\n",
       "    .dataframe tbody tr th {\n",
       "        vertical-align: top;\n",
       "    }\n",
       "\n",
       "    .dataframe thead th {\n",
       "        text-align: right;\n",
       "    }\n",
       "</style>\n",
       "<table border=\"1\" class=\"dataframe\">\n",
       "  <thead>\n",
       "    <tr style=\"text-align: right;\">\n",
       "      <th></th>\n",
       "      <th>Id</th>\n",
       "      <th>Product_Info_1</th>\n",
       "      <th>Product_Info_3</th>\n",
       "      <th>Product_Info_4</th>\n",
       "      <th>Product_Info_5</th>\n",
       "      <th>Product_Info_6</th>\n",
       "      <th>Product_Info_7</th>\n",
       "      <th>Ins_Age</th>\n",
       "      <th>Ht</th>\n",
       "      <th>Wt</th>\n",
       "      <th>...</th>\n",
       "      <th>Medical_Keyword_40</th>\n",
       "      <th>Medical_Keyword_41</th>\n",
       "      <th>Medical_Keyword_42</th>\n",
       "      <th>Medical_Keyword_43</th>\n",
       "      <th>Medical_Keyword_44</th>\n",
       "      <th>Medical_Keyword_45</th>\n",
       "      <th>Medical_Keyword_46</th>\n",
       "      <th>Medical_Keyword_47</th>\n",
       "      <th>Medical_Keyword_48</th>\n",
       "      <th>Response</th>\n",
       "    </tr>\n",
       "  </thead>\n",
       "  <tbody>\n",
       "    <tr>\n",
       "      <th>count</th>\n",
       "      <td>59381.000000</td>\n",
       "      <td>59381.000000</td>\n",
       "      <td>59381.000000</td>\n",
       "      <td>59381.000000</td>\n",
       "      <td>59381.000000</td>\n",
       "      <td>59381.000000</td>\n",
       "      <td>59381.000000</td>\n",
       "      <td>59381.000000</td>\n",
       "      <td>59381.000000</td>\n",
       "      <td>59381.000000</td>\n",
       "      <td>...</td>\n",
       "      <td>59381.000000</td>\n",
       "      <td>59381.000000</td>\n",
       "      <td>59381.000000</td>\n",
       "      <td>59381.000000</td>\n",
       "      <td>59381.000000</td>\n",
       "      <td>59381.000000</td>\n",
       "      <td>59381.000000</td>\n",
       "      <td>59381.000000</td>\n",
       "      <td>59381.000000</td>\n",
       "      <td>59381.000000</td>\n",
       "    </tr>\n",
       "    <tr>\n",
       "      <th>mean</th>\n",
       "      <td>39507.211515</td>\n",
       "      <td>1.026355</td>\n",
       "      <td>24.415655</td>\n",
       "      <td>0.328952</td>\n",
       "      <td>2.006955</td>\n",
       "      <td>2.673599</td>\n",
       "      <td>1.043583</td>\n",
       "      <td>0.405567</td>\n",
       "      <td>0.707283</td>\n",
       "      <td>0.292587</td>\n",
       "      <td>...</td>\n",
       "      <td>0.056954</td>\n",
       "      <td>0.010054</td>\n",
       "      <td>0.045536</td>\n",
       "      <td>0.010710</td>\n",
       "      <td>0.007528</td>\n",
       "      <td>0.013691</td>\n",
       "      <td>0.008488</td>\n",
       "      <td>0.019905</td>\n",
       "      <td>0.054496</td>\n",
       "      <td>5.636837</td>\n",
       "    </tr>\n",
       "    <tr>\n",
       "      <th>std</th>\n",
       "      <td>22815.883089</td>\n",
       "      <td>0.160191</td>\n",
       "      <td>5.072885</td>\n",
       "      <td>0.282562</td>\n",
       "      <td>0.083107</td>\n",
       "      <td>0.739103</td>\n",
       "      <td>0.291949</td>\n",
       "      <td>0.197190</td>\n",
       "      <td>0.074239</td>\n",
       "      <td>0.089037</td>\n",
       "      <td>...</td>\n",
       "      <td>0.231757</td>\n",
       "      <td>0.099764</td>\n",
       "      <td>0.208479</td>\n",
       "      <td>0.102937</td>\n",
       "      <td>0.086436</td>\n",
       "      <td>0.116207</td>\n",
       "      <td>0.091737</td>\n",
       "      <td>0.139676</td>\n",
       "      <td>0.226995</td>\n",
       "      <td>2.456833</td>\n",
       "    </tr>\n",
       "    <tr>\n",
       "      <th>min</th>\n",
       "      <td>2.000000</td>\n",
       "      <td>1.000000</td>\n",
       "      <td>1.000000</td>\n",
       "      <td>0.000000</td>\n",
       "      <td>2.000000</td>\n",
       "      <td>1.000000</td>\n",
       "      <td>1.000000</td>\n",
       "      <td>0.000000</td>\n",
       "      <td>0.000000</td>\n",
       "      <td>0.000000</td>\n",
       "      <td>...</td>\n",
       "      <td>0.000000</td>\n",
       "      <td>0.000000</td>\n",
       "      <td>0.000000</td>\n",
       "      <td>0.000000</td>\n",
       "      <td>0.000000</td>\n",
       "      <td>0.000000</td>\n",
       "      <td>0.000000</td>\n",
       "      <td>0.000000</td>\n",
       "      <td>0.000000</td>\n",
       "      <td>1.000000</td>\n",
       "    </tr>\n",
       "    <tr>\n",
       "      <th>25%</th>\n",
       "      <td>19780.000000</td>\n",
       "      <td>1.000000</td>\n",
       "      <td>26.000000</td>\n",
       "      <td>0.076923</td>\n",
       "      <td>2.000000</td>\n",
       "      <td>3.000000</td>\n",
       "      <td>1.000000</td>\n",
       "      <td>0.238806</td>\n",
       "      <td>0.654545</td>\n",
       "      <td>0.225941</td>\n",
       "      <td>...</td>\n",
       "      <td>0.000000</td>\n",
       "      <td>0.000000</td>\n",
       "      <td>0.000000</td>\n",
       "      <td>0.000000</td>\n",
       "      <td>0.000000</td>\n",
       "      <td>0.000000</td>\n",
       "      <td>0.000000</td>\n",
       "      <td>0.000000</td>\n",
       "      <td>0.000000</td>\n",
       "      <td>4.000000</td>\n",
       "    </tr>\n",
       "    <tr>\n",
       "      <th>50%</th>\n",
       "      <td>39487.000000</td>\n",
       "      <td>1.000000</td>\n",
       "      <td>26.000000</td>\n",
       "      <td>0.230769</td>\n",
       "      <td>2.000000</td>\n",
       "      <td>3.000000</td>\n",
       "      <td>1.000000</td>\n",
       "      <td>0.402985</td>\n",
       "      <td>0.709091</td>\n",
       "      <td>0.288703</td>\n",
       "      <td>...</td>\n",
       "      <td>0.000000</td>\n",
       "      <td>0.000000</td>\n",
       "      <td>0.000000</td>\n",
       "      <td>0.000000</td>\n",
       "      <td>0.000000</td>\n",
       "      <td>0.000000</td>\n",
       "      <td>0.000000</td>\n",
       "      <td>0.000000</td>\n",
       "      <td>0.000000</td>\n",
       "      <td>6.000000</td>\n",
       "    </tr>\n",
       "    <tr>\n",
       "      <th>75%</th>\n",
       "      <td>59211.000000</td>\n",
       "      <td>1.000000</td>\n",
       "      <td>26.000000</td>\n",
       "      <td>0.487179</td>\n",
       "      <td>2.000000</td>\n",
       "      <td>3.000000</td>\n",
       "      <td>1.000000</td>\n",
       "      <td>0.567164</td>\n",
       "      <td>0.763636</td>\n",
       "      <td>0.345188</td>\n",
       "      <td>...</td>\n",
       "      <td>0.000000</td>\n",
       "      <td>0.000000</td>\n",
       "      <td>0.000000</td>\n",
       "      <td>0.000000</td>\n",
       "      <td>0.000000</td>\n",
       "      <td>0.000000</td>\n",
       "      <td>0.000000</td>\n",
       "      <td>0.000000</td>\n",
       "      <td>0.000000</td>\n",
       "      <td>8.000000</td>\n",
       "    </tr>\n",
       "    <tr>\n",
       "      <th>max</th>\n",
       "      <td>79146.000000</td>\n",
       "      <td>2.000000</td>\n",
       "      <td>38.000000</td>\n",
       "      <td>1.000000</td>\n",
       "      <td>3.000000</td>\n",
       "      <td>3.000000</td>\n",
       "      <td>3.000000</td>\n",
       "      <td>1.000000</td>\n",
       "      <td>1.000000</td>\n",
       "      <td>1.000000</td>\n",
       "      <td>...</td>\n",
       "      <td>1.000000</td>\n",
       "      <td>1.000000</td>\n",
       "      <td>1.000000</td>\n",
       "      <td>1.000000</td>\n",
       "      <td>1.000000</td>\n",
       "      <td>1.000000</td>\n",
       "      <td>1.000000</td>\n",
       "      <td>1.000000</td>\n",
       "      <td>1.000000</td>\n",
       "      <td>8.000000</td>\n",
       "    </tr>\n",
       "  </tbody>\n",
       "</table>\n",
       "<p>8 rows × 127 columns</p>\n",
       "</div>"
      ],
      "text/plain": [
       "                 Id  Product_Info_1  Product_Info_3  Product_Info_4  \\\n",
       "count  59381.000000    59381.000000    59381.000000    59381.000000   \n",
       "mean   39507.211515        1.026355       24.415655        0.328952   \n",
       "std    22815.883089        0.160191        5.072885        0.282562   \n",
       "min        2.000000        1.000000        1.000000        0.000000   \n",
       "25%    19780.000000        1.000000       26.000000        0.076923   \n",
       "50%    39487.000000        1.000000       26.000000        0.230769   \n",
       "75%    59211.000000        1.000000       26.000000        0.487179   \n",
       "max    79146.000000        2.000000       38.000000        1.000000   \n",
       "\n",
       "       Product_Info_5  Product_Info_6  Product_Info_7       Ins_Age  \\\n",
       "count    59381.000000    59381.000000    59381.000000  59381.000000   \n",
       "mean         2.006955        2.673599        1.043583      0.405567   \n",
       "std          0.083107        0.739103        0.291949      0.197190   \n",
       "min          2.000000        1.000000        1.000000      0.000000   \n",
       "25%          2.000000        3.000000        1.000000      0.238806   \n",
       "50%          2.000000        3.000000        1.000000      0.402985   \n",
       "75%          2.000000        3.000000        1.000000      0.567164   \n",
       "max          3.000000        3.000000        3.000000      1.000000   \n",
       "\n",
       "                 Ht            Wt  ...  Medical_Keyword_40  \\\n",
       "count  59381.000000  59381.000000  ...        59381.000000   \n",
       "mean       0.707283      0.292587  ...            0.056954   \n",
       "std        0.074239      0.089037  ...            0.231757   \n",
       "min        0.000000      0.000000  ...            0.000000   \n",
       "25%        0.654545      0.225941  ...            0.000000   \n",
       "50%        0.709091      0.288703  ...            0.000000   \n",
       "75%        0.763636      0.345188  ...            0.000000   \n",
       "max        1.000000      1.000000  ...            1.000000   \n",
       "\n",
       "       Medical_Keyword_41  Medical_Keyword_42  Medical_Keyword_43  \\\n",
       "count        59381.000000        59381.000000        59381.000000   \n",
       "mean             0.010054            0.045536            0.010710   \n",
       "std              0.099764            0.208479            0.102937   \n",
       "min              0.000000            0.000000            0.000000   \n",
       "25%              0.000000            0.000000            0.000000   \n",
       "50%              0.000000            0.000000            0.000000   \n",
       "75%              0.000000            0.000000            0.000000   \n",
       "max              1.000000            1.000000            1.000000   \n",
       "\n",
       "       Medical_Keyword_44  Medical_Keyword_45  Medical_Keyword_46  \\\n",
       "count        59381.000000        59381.000000        59381.000000   \n",
       "mean             0.007528            0.013691            0.008488   \n",
       "std              0.086436            0.116207            0.091737   \n",
       "min              0.000000            0.000000            0.000000   \n",
       "25%              0.000000            0.000000            0.000000   \n",
       "50%              0.000000            0.000000            0.000000   \n",
       "75%              0.000000            0.000000            0.000000   \n",
       "max              1.000000            1.000000            1.000000   \n",
       "\n",
       "       Medical_Keyword_47  Medical_Keyword_48      Response  \n",
       "count        59381.000000        59381.000000  59381.000000  \n",
       "mean             0.019905            0.054496      5.636837  \n",
       "std              0.139676            0.226995      2.456833  \n",
       "min              0.000000            0.000000      1.000000  \n",
       "25%              0.000000            0.000000      4.000000  \n",
       "50%              0.000000            0.000000      6.000000  \n",
       "75%              0.000000            0.000000      8.000000  \n",
       "max              1.000000            1.000000      8.000000  \n",
       "\n",
       "[8 rows x 127 columns]"
      ]
     },
     "execution_count": 7,
     "metadata": {},
     "output_type": "execute_result"
    }
   ],
   "source": [
    "data.describe()"
   ]
  },
  {
   "cell_type": "code",
   "execution_count": 8,
   "metadata": {},
   "outputs": [
    {
     "data": {
      "text/plain": [
       "Index(['Id', 'Product_Info_1', 'Product_Info_2', 'Product_Info_3',\n",
       "       'Product_Info_4', 'Product_Info_5', 'Product_Info_6', 'Product_Info_7',\n",
       "       'Ins_Age', 'Ht',\n",
       "       ...\n",
       "       'Medical_Keyword_40', 'Medical_Keyword_41', 'Medical_Keyword_42',\n",
       "       'Medical_Keyword_43', 'Medical_Keyword_44', 'Medical_Keyword_45',\n",
       "       'Medical_Keyword_46', 'Medical_Keyword_47', 'Medical_Keyword_48',\n",
       "       'Response'],\n",
       "      dtype='object', length=128)"
      ]
     },
     "execution_count": 8,
     "metadata": {},
     "output_type": "execute_result"
    }
   ],
   "source": [
    "data.columns"
   ]
  },
  {
   "cell_type": "code",
   "execution_count": 9,
   "metadata": {},
   "outputs": [
    {
     "data": {
      "text/plain": [
       "Index(['Id', 'Product_Info_1', 'Product_Info_2', 'Product_Info_3',\n",
       "       'Product_Info_4', 'Product_Info_5', 'Product_Info_6', 'Product_Info_7',\n",
       "       'Ins_Age', 'Ht', 'Wt', 'BMI', 'Employment_Info_1', 'Employment_Info_2',\n",
       "       'Employment_Info_3', 'Employment_Info_4', 'Employment_Info_5',\n",
       "       'Employment_Info_6', 'InsuredInfo_1', 'InsuredInfo_2', 'InsuredInfo_3',\n",
       "       'InsuredInfo_4', 'InsuredInfo_5', 'InsuredInfo_6', 'InsuredInfo_7',\n",
       "       'Insurance_History_1', 'Insurance_History_2', 'Insurance_History_3',\n",
       "       'Insurance_History_4', 'Insurance_History_5', 'Insurance_History_7',\n",
       "       'Insurance_History_8', 'Insurance_History_9', 'Family_Hist_1',\n",
       "       'Family_Hist_2', 'Family_Hist_3', 'Family_Hist_4', 'Family_Hist_5',\n",
       "       'Medical_History_1', 'Medical_History_2', 'Medical_History_3',\n",
       "       'Medical_History_4', 'Medical_History_5', 'Medical_History_6',\n",
       "       'Medical_History_7', 'Medical_History_8', 'Medical_History_9',\n",
       "       'Medical_History_10', 'Medical_History_11', 'Medical_History_12'],\n",
       "      dtype='object')"
      ]
     },
     "execution_count": 9,
     "metadata": {},
     "output_type": "execute_result"
    }
   ],
   "source": [
    "data.iloc[:, : 50].columns"
   ]
  },
  {
   "cell_type": "code",
   "execution_count": 10,
   "metadata": {},
   "outputs": [
    {
     "name": "stdout",
     "output_type": "stream",
     "text": [
      "<class 'pandas.core.frame.DataFrame'>\n",
      "RangeIndex: 59381 entries, 0 to 59380\n",
      "Data columns (total 50 columns):\n",
      " #   Column               Non-Null Count  Dtype  \n",
      "---  ------               --------------  -----  \n",
      " 0   Id                   59381 non-null  int64  \n",
      " 1   Product_Info_1       59381 non-null  int64  \n",
      " 2   Product_Info_2       59381 non-null  object \n",
      " 3   Product_Info_3       59381 non-null  int64  \n",
      " 4   Product_Info_4       59381 non-null  float64\n",
      " 5   Product_Info_5       59381 non-null  int64  \n",
      " 6   Product_Info_6       59381 non-null  int64  \n",
      " 7   Product_Info_7       59381 non-null  int64  \n",
      " 8   Ins_Age              59381 non-null  float64\n",
      " 9   Ht                   59381 non-null  float64\n",
      " 10  Wt                   59381 non-null  float64\n",
      " 11  BMI                  59381 non-null  float64\n",
      " 12  Employment_Info_1    59362 non-null  float64\n",
      " 13  Employment_Info_2    59381 non-null  int64  \n",
      " 14  Employment_Info_3    59381 non-null  int64  \n",
      " 15  Employment_Info_4    52602 non-null  float64\n",
      " 16  Employment_Info_5    59381 non-null  int64  \n",
      " 17  Employment_Info_6    48527 non-null  float64\n",
      " 18  InsuredInfo_1        59381 non-null  int64  \n",
      " 19  InsuredInfo_2        59381 non-null  int64  \n",
      " 20  InsuredInfo_3        59381 non-null  int64  \n",
      " 21  InsuredInfo_4        59381 non-null  int64  \n",
      " 22  InsuredInfo_5        59381 non-null  int64  \n",
      " 23  InsuredInfo_6        59381 non-null  int64  \n",
      " 24  InsuredInfo_7        59381 non-null  int64  \n",
      " 25  Insurance_History_1  59381 non-null  int64  \n",
      " 26  Insurance_History_2  59381 non-null  int64  \n",
      " 27  Insurance_History_3  59381 non-null  int64  \n",
      " 28  Insurance_History_4  59381 non-null  int64  \n",
      " 29  Insurance_History_5  33985 non-null  float64\n",
      " 30  Insurance_History_7  59381 non-null  int64  \n",
      " 31  Insurance_History_8  59381 non-null  int64  \n",
      " 32  Insurance_History_9  59381 non-null  int64  \n",
      " 33  Family_Hist_1        59381 non-null  int64  \n",
      " 34  Family_Hist_2        30725 non-null  float64\n",
      " 35  Family_Hist_3        25140 non-null  float64\n",
      " 36  Family_Hist_4        40197 non-null  float64\n",
      " 37  Family_Hist_5        17570 non-null  float64\n",
      " 38  Medical_History_1    50492 non-null  float64\n",
      " 39  Medical_History_2    59381 non-null  int64  \n",
      " 40  Medical_History_3    59381 non-null  int64  \n",
      " 41  Medical_History_4    59381 non-null  int64  \n",
      " 42  Medical_History_5    59381 non-null  int64  \n",
      " 43  Medical_History_6    59381 non-null  int64  \n",
      " 44  Medical_History_7    59381 non-null  int64  \n",
      " 45  Medical_History_8    59381 non-null  int64  \n",
      " 46  Medical_History_9    59381 non-null  int64  \n",
      " 47  Medical_History_10   557 non-null    float64\n",
      " 48  Medical_History_11   59381 non-null  int64  \n",
      " 49  Medical_History_12   59381 non-null  int64  \n",
      "dtypes: float64(15), int64(34), object(1)\n",
      "memory usage: 22.7+ MB\n"
     ]
    }
   ],
   "source": [
    "data.iloc[:, : 50].info()"
   ]
  },
  {
   "cell_type": "code",
   "execution_count": 11,
   "metadata": {},
   "outputs": [
    {
     "data": {
      "text/plain": [
       "0.007177222270971562"
      ]
     },
     "execution_count": 11,
     "metadata": {},
     "output_type": "execute_result"
    }
   ],
   "source": [
    "data['Insurance_History_3'].corr(data.Response)"
   ]
  },
  {
   "cell_type": "code",
   "execution_count": 12,
   "metadata": {},
   "outputs": [
    {
     "name": "stdout",
     "output_type": "stream",
     "text": [
      "8    19489\n",
      "6    11233\n",
      "7     8027\n",
      "2     6552\n",
      "1     6207\n",
      "5     5432\n",
      "4     1428\n",
      "3     1013\n",
      "Name: Response, dtype: int64\n"
     ]
    }
   ],
   "source": [
    "# check if the data is balanced or imbalanced\n",
    "print(data['Response'].value_counts())"
   ]
  },
  {
   "cell_type": "code",
   "execution_count": 13,
   "metadata": {},
   "outputs": [
    {
     "data": {
      "text/plain": [
       "Employment_Info_1         19\n",
       "Employment_Info_4       6779\n",
       "Employment_Info_6      10854\n",
       "Insurance_History_5    25396\n",
       "Family_Hist_2          28656\n",
       "Family_Hist_3          34241\n",
       "Family_Hist_4          19184\n",
       "Family_Hist_5          41811\n",
       "Medical_History_1       8889\n",
       "Medical_History_10     58824\n",
       "Medical_History_15     44596\n",
       "Medical_History_24     55580\n",
       "Medical_History_32     58274\n",
       "dtype: int64"
      ]
     },
     "execution_count": 13,
     "metadata": {},
     "output_type": "execute_result"
    }
   ],
   "source": [
    "# check for null values \n",
    "\n",
    "data.isnull().sum()[data.isnull().sum()>0]"
   ]
  },
  {
   "cell_type": "code",
   "execution_count": 14,
   "metadata": {},
   "outputs": [
    {
     "data": {
      "text/plain": [
       "array([112, 412,   3, 350, 162, 491, 600, 145,  16, 628, 434, 161, 335,\n",
       "       613, 261, 568, 407, 132, 565,  33, 156, 202, 366, 140, 444,  57,\n",
       "        81,  14, 617,  63, 317, 155, 373,  58, 198, 453, 428, 610, 125,\n",
       "       354, 478, 177, 245, 253, 441, 569, 528, 515, 276,  48,  52, 166,\n",
       "       217, 280, 362, 404,  34, 390, 180, 349, 579, 123, 632, 408, 378,\n",
       "       181, 121, 418, 306, 446, 171,  42, 106, 497, 353, 160, 204, 615,\n",
       "       192, 352, 577, 570, 122, 387, 249, 501, 278, 483,  96, 621, 220,\n",
       "       466, 262,  79, 403, 633, 272, 484, 228, 182, 379, 307,  20, 447,\n",
       "       564, 477, 230, 109, 287, 430, 205, 413, 415, 129, 260, 298, 368,\n",
       "       421, 164, 274, 548, 519,  43,  22, 330, 571, 561, 437, 153, 383,\n",
       "       459, 509,  41, 120, 258, 116, 265, 506, 631,   7,  82, 624,  84,\n",
       "       522, 480,  68, 461, 190, 152, 151, 514, 416, 575, 391, 526, 108,\n",
       "       518, 277, 581, 567,  47, 320, 534, 468,  21, 609,  35, 432, 627,\n",
       "       566, 255, 371, 370, 264, 191, 641, 175,   1, 212, 499, 282, 351,\n",
       "        15,   8,  36, 462, 507, 283, 314, 409, 324, 251, 299, 239, 337,\n",
       "       626, 489,  40, 323, 215, 348,  56,  67, 552, 183, 275, 377, 532,\n",
       "       525, 294, 223,  90, 318, 596,  93, 438, 313, 394,  28, 188, 302,\n",
       "       472, 490, 503, 481, 213, 303, 131, 451, 186,  98, 222, 458, 640,\n",
       "        71, 218, 531, 614, 224, 411, 286, 268, 208, 357, 316, 417, 634,\n",
       "        12, 599,  61, 257,  72, 167,  88,  86,  46, 127, 554,  70, 146,\n",
       "        77, 232, 290, 297, 395, 149, 236, 234, 527, 281, 104,  59, 360,\n",
       "       488, 214, 147, 382, 630, 295,  76, 322, 238,  74, 203, 388, 580,\n",
       "       331, 185, 435,  87, 101, 338, 406, 629, 293,  39,  75, 523, 511,\n",
       "       329,  89, 369, 504,  13, 138, 346, 392, 327, 510, 589, 301, 247,\n",
       "       606, 113, 520, 128, 544, 549, 642,  55,  44,  91, 386, 114, 196,\n",
       "       457, 427,  19, 563, 419, 165, 464, 195, 398, 305, 529, 184, 124,\n",
       "       449, 644, 559, 270, 487, 433, 143,  78, 355, 540,  94, 537, 209,\n",
       "       587, 169, 310,   5, 240, 493, 111, 389, 100, 332, 201, 285, 115,\n",
       "        32, 486, 179,  10, 496, 619, 595,  99, 326, 431, 542, 436, 426,\n",
       "         9, 583, 343,  95, 443, 139, 105, 289, 550, 494, 358, 256, 476,\n",
       "       414, 235, 620,   2, 396, 492, 311, 635, 393, 361, 144, 364, 420,\n",
       "       607,  26, 399, 482, 602, 470, 636, 474, 154, 267, 193, 199, 117,\n",
       "        60,  69,  18, 410, 573, 279, 134, 533, 170, 110, 259, 618, 363,\n",
       "       107, 266, 200, 248, 558, 376, 241,  27, 622, 541, 608, 465,  30,\n",
       "       233, 372, 174, 242, 227, 586, 328, 517, 601, 334, 605, 347, 333,\n",
       "       588, 638,  73, 560, 226, 495, 210, 593, 141, 321, 288, 448,  37,\n",
       "       315, 603, 336, 296, 102, 557, 221,  29, 148, 187, 516, 524, 163,\n",
       "       229, 142, 231, 374, 473, 452, 502, 467,  23, 137, 319, 219, 189,\n",
       "        54,  50, 576,  45, 173, 405,  97, 538, 637, 572,  64, 271, 273,\n",
       "       611,  25, 553, 592,  24, 616, 344, 543, 645,  51, 562, 172, 646,\n",
       "       536, 598, 455, 150, 384, 135, 157, 440, 647, 291, 243, 250, 505,\n",
       "       381, 648, 456,  62,  38, 623, 397, 197, 639, 345, 582, 159, 590,\n",
       "        66, 471, 512,   6, 133, 591, 385, 225,  53, 545,  17, 643, 498,\n",
       "       479, 136, 546, 216, 422, 375, 584, 530, 551, 207, 400, 469, 252,\n",
       "       513,  85, 439, 578, 380, 475, 158])"
      ]
     },
     "execution_count": 14,
     "metadata": {},
     "output_type": "execute_result"
    }
   ],
   "source": [
    "data.Medical_History_2.unique()"
   ]
  },
  {
   "cell_type": "code",
   "execution_count": 15,
   "metadata": {},
   "outputs": [
    {
     "data": {
      "text/plain": [
       "19"
      ]
     },
     "execution_count": 15,
     "metadata": {},
     "output_type": "execute_result"
    }
   ],
   "source": [
    "a=data[data.Employment_Info_1.isnull()]\n",
    "\n",
    "data[data.Employment_Info_1.isnull()].Employment_Info_1=1.9\n",
    "data['Employment_Info_1'].isnull().sum()"
   ]
  },
  {
   "cell_type": "code",
   "execution_count": 16,
   "metadata": {},
   "outputs": [
    {
     "name": "stdout",
     "output_type": "stream",
     "text": [
      "               features  missing_count  missing_count_percentage\n",
      "0     Employment_Info_1             19                  0.031997\n",
      "1     Employment_Info_4           6779                 11.416110\n",
      "2     Employment_Info_6          10854                 18.278574\n",
      "3   Insurance_History_5          25396                 42.767889\n",
      "4         Family_Hist_2          28656                 48.257860\n",
      "5         Family_Hist_3          34241                 57.663226\n",
      "6         Family_Hist_4          19184                 32.306630\n",
      "7         Family_Hist_5          41811                 70.411411\n",
      "8     Medical_History_1           8889                 14.969435\n",
      "9    Medical_History_10          58824                 99.061990\n",
      "10   Medical_History_15          44596                 75.101463\n",
      "11   Medical_History_24          55580                 93.598963\n",
      "12   Medical_History_32          58274                 98.135767\n"
     ]
    },
    {
     "data": {
      "image/png": "[encoded data removed]",
      "text/plain": [
       "<Figure size 1440x576 with 1 Axes>"
      ]
     },
     "metadata": {
      "needs_background": "light"
     },
     "output_type": "display_data"
    }
   ],
   "source": [
    "# Lets draw a bar graph to visualize percentage of missing features in train set\n",
    "missing= data.isnull().sum()[data.isnull().sum() !=0]\n",
    "\n",
    "missing=pd.DataFrame(missing.reset_index())\n",
    "\n",
    "missing.rename(columns={'index':'features',0:'missing_count'},inplace=True)\n",
    "missing['missing_count_percentage']=((missing['missing_count'])/59381)*100\n",
    "plt.figure(figsize=(20,8))\n",
    "sns.barplot(y=missing['features'],x=missing['missing_count_percentage'])\n",
    "print(missing)\n",
    "#Looking at below bar grah- \n",
    "#Medical_Hist_32/24/15/10 , Family_hist_5 are top five features with huge amount of missing data ( imputaion to these might not be fruitful - I will drop these features)"
   ]
  },
  {
   "cell_type": "code",
   "execution_count": 17,
   "metadata": {},
   "outputs": [
    {
     "name": "stdout",
     "output_type": "stream",
     "text": [
      "<class 'pandas.core.frame.DataFrame'>\n",
      "RangeIndex: 59381 entries, 0 to 59380\n",
      "Data columns (total 13 columns):\n",
      " #   Column               Non-Null Count  Dtype  \n",
      "---  ------               --------------  -----  \n",
      " 0   Employment_Info_1    59362 non-null  float64\n",
      " 1   Employment_Info_4    52602 non-null  float64\n",
      " 2   Employment_Info_6    48527 non-null  float64\n",
      " 3   Insurance_History_5  33985 non-null  float64\n",
      " 4   Family_Hist_2        30725 non-null  float64\n",
      " 5   Family_Hist_3        25140 non-null  float64\n",
      " 6   Family_Hist_4        40197 non-null  float64\n",
      " 7   Family_Hist_5        17570 non-null  float64\n",
      " 8   Medical_History_1    50492 non-null  float64\n",
      " 9   Medical_History_10   557 non-null    float64\n",
      " 10  Medical_History_15   14785 non-null  float64\n",
      " 11  Medical_History_24   3801 non-null   float64\n",
      " 12  Medical_History_32   1107 non-null   float64\n",
      "dtypes: float64(13)\n",
      "memory usage: 5.9 MB\n"
     ]
    }
   ],
   "source": [
    "data[missing['features']].info()"
   ]
  },
  {
   "cell_type": "markdown",
   "metadata": {},
   "source": [
    "Employment_Info_1_4_6 Insurance_History_5 Family_Hist_2-3-4-5 are continous features .\n",
    "\n",
    "The following variables are discrete: Medical_History_1, Medical_History_10, Medical_History_15, Medical_History_24, Medical_History_32\n",
    "\n",
    "remove rows with missing values and see model performance\n",
    "impute missing values with mean and median or may be mode."
   ]
  },
  {
   "cell_type": "code",
   "execution_count": 18,
   "metadata": {},
   "outputs": [
    {
     "data": {
      "text/plain": [
       "<matplotlib.axes._subplots.AxesSubplot at 0x1206f3a00>"
      ]
     },
     "execution_count": 18,
     "metadata": {},
     "output_type": "execute_result"
    },
    {
     "data": {
      "image/png": "[encoded data removed]",
      "text/plain": [
       "<Figure size 432x288 with 1 Axes>"
      ]
     },
     "metadata": {
      "needs_background": "light"
     },
     "output_type": "display_data"
    }
   ],
   "source": [
    "# Lets see spread of data before we impute missing values\n",
    "plt.plot(figsize=(15,10))\n",
    "sns.boxplot(data['Employment_Info_1'])\n",
    "# Employment_Info_1 seems to have lots of outliers - Median should be right to impute missing values"
   ]
  },
  {
   "cell_type": "code",
   "execution_count": 19,
   "metadata": {},
   "outputs": [
    {
     "data": {
      "text/plain": [
       "19"
      ]
     },
     "execution_count": 19,
     "metadata": {},
     "output_type": "execute_result"
    }
   ],
   "source": [
    "data['Employment_Info_1'].isna().sum()"
   ]
  },
  {
   "cell_type": "code",
   "execution_count": 20,
   "metadata": {},
   "outputs": [
    {
     "data": {
      "text/plain": [
       "0.06"
      ]
     },
     "execution_count": 20,
     "metadata": {},
     "output_type": "execute_result"
    }
   ],
   "source": [
    "data['Employment_Info_1'].median()"
   ]
  },
  {
   "cell_type": "code",
   "execution_count": 21,
   "metadata": {},
   "outputs": [],
   "source": [
    "data['Employment_Info_1'].fillna(data['Employment_Info_1'].median(),inplace=True) \n",
    "# imputing with Meadian , as there are lots of Outliers \n"
   ]
  },
  {
   "cell_type": "code",
   "execution_count": 22,
   "metadata": {},
   "outputs": [
    {
     "data": {
      "text/plain": [
       "0"
      ]
     },
     "execution_count": 22,
     "metadata": {},
     "output_type": "execute_result"
    }
   ],
   "source": [
    "data['Employment_Info_1'].isna().sum()"
   ]
  },
  {
   "cell_type": "code",
   "execution_count": 23,
   "metadata": {},
   "outputs": [
    {
     "data": {
      "text/plain": [
       "count    59381.000000\n",
       "mean         0.077576\n",
       "std          0.082334\n",
       "min          0.000000\n",
       "25%          0.035000\n",
       "50%          0.060000\n",
       "75%          0.100000\n",
       "max          1.000000\n",
       "Name: Employment_Info_1, dtype: float64"
      ]
     },
     "execution_count": 23,
     "metadata": {},
     "output_type": "execute_result"
    }
   ],
   "source": [
    "data['Employment_Info_1'].describe()"
   ]
  },
  {
   "cell_type": "code",
   "execution_count": 24,
   "metadata": {},
   "outputs": [
    {
     "data": {
      "text/plain": [
       "<matplotlib.axes._subplots.AxesSubplot at 0x120880910>"
      ]
     },
     "execution_count": 24,
     "metadata": {},
     "output_type": "execute_result"
    },
    {
     "data": {
      "image/png": "[encoded data removed]",
      "text/plain": [
       "<Figure size 432x288 with 1 Axes>"
      ]
     },
     "metadata": {
      "needs_background": "light"
     },
     "output_type": "display_data"
    }
   ],
   "source": [
    "sns.boxplot(data['Employment_Info_4'])\n",
    "# ['Employment_Info_4'] is has most of the values centered close to zero , also huge presence of outliers "
   ]
  },
  {
   "cell_type": "code",
   "execution_count": 25,
   "metadata": {},
   "outputs": [],
   "source": [
    "data['Employment_Info_4'].fillna(data.Employment_Info_4.median(),inplace=True)"
   ]
  },
  {
   "cell_type": "code",
   "execution_count": 26,
   "metadata": {},
   "outputs": [
    {
     "data": {
      "text/plain": [
       "<matplotlib.axes._subplots.AxesSubplot at 0x109342130>"
      ]
     },
     "execution_count": 26,
     "metadata": {},
     "output_type": "execute_result"
    },
    {
     "data": {
      "image/png": "[encoded data removed]",
      "text/plain": [
       "<Figure size 432x288 with 1 Axes>"
      ]
     },
     "metadata": {
      "needs_background": "light"
     },
     "output_type": "display_data"
    }
   ],
   "source": [
    "sns.boxplot(data['Employment_Info_6'])\n",
    "#No outlieers - mean should be rigth candidate to impute missing values"
   ]
  },
  {
   "cell_type": "code",
   "execution_count": 27,
   "metadata": {},
   "outputs": [],
   "source": [
    "data['Employment_Info_6'].fillna(data.Employment_Info_6.mean(),inplace=True)"
   ]
  },
  {
   "cell_type": "code",
   "execution_count": 28,
   "metadata": {},
   "outputs": [
    {
     "data": {
      "text/plain": [
       "<matplotlib.axes._subplots.AxesSubplot at 0x120a8ef40>"
      ]
     },
     "execution_count": 28,
     "metadata": {},
     "output_type": "execute_result"
    },
    {
     "data": {
      "image/png": "[encoded data removed]",
      "text/plain": [
       "<Figure size 432x288 with 1 Axes>"
      ]
     },
     "metadata": {
      "needs_background": "light"
     },
     "output_type": "display_data"
    }
   ],
   "source": [
    "data['Medical_History_1'].isnull().sum()\n",
    "sns.boxplot(y=data['Medical_History_1'])"
   ]
  },
  {
   "cell_type": "code",
   "execution_count": 29,
   "metadata": {},
   "outputs": [
    {
     "data": {
      "text/plain": [
       "0"
      ]
     },
     "execution_count": 29,
     "metadata": {},
     "output_type": "execute_result"
    }
   ],
   "source": [
    "data['Medical_History_1'].fillna(data['Medical_History_1'].median(),inplace=True)\n",
    "data['Medical_History_1'].isnull().sum()"
   ]
  },
  {
   "cell_type": "code",
   "execution_count": 30,
   "metadata": {},
   "outputs": [],
   "source": [
    "#lets drop features with high number of missing values \n",
    "data.drop(['Medical_History_10','Medical_History_15','Medical_History_24','Medical_History_32','Family_Hist_3','Family_Hist_5','Family_Hist_2','Family_Hist_4'],axis=1,inplace=True)"
   ]
  },
  {
   "cell_type": "code",
   "execution_count": 31,
   "metadata": {},
   "outputs": [
    {
     "data": {
      "text/plain": [
       "Index(['Id', 'Product_Info_1', 'Product_Info_2', 'Product_Info_3',\n",
       "       'Product_Info_4', 'Product_Info_5', 'Product_Info_6', 'Product_Info_7',\n",
       "       'Ins_Age', 'Ht',\n",
       "       ...\n",
       "       'Medical_Keyword_40', 'Medical_Keyword_41', 'Medical_Keyword_42',\n",
       "       'Medical_Keyword_43', 'Medical_Keyword_44', 'Medical_Keyword_45',\n",
       "       'Medical_Keyword_46', 'Medical_Keyword_47', 'Medical_Keyword_48',\n",
       "       'Response'],\n",
       "      dtype='object', length=120)"
      ]
     },
     "execution_count": 31,
     "metadata": {},
     "output_type": "execute_result"
    }
   ],
   "source": [
    "data.columns"
   ]
  },
  {
   "cell_type": "code",
   "execution_count": 32,
   "metadata": {},
   "outputs": [
    {
     "data": {
      "text/plain": [
       "Insurance_History_5    25396\n",
       "dtype: int64"
      ]
     },
     "execution_count": 32,
     "metadata": {},
     "output_type": "execute_result"
    }
   ],
   "source": [
    "data.isnull().sum()[data.isnull().sum()!=0]"
   ]
  },
  {
   "cell_type": "code",
   "execution_count": 33,
   "metadata": {},
   "outputs": [
    {
     "data": {
      "text/plain": [
       "<matplotlib.axes._subplots.AxesSubplot at 0x12411c550>"
      ]
     },
     "execution_count": 33,
     "metadata": {},
     "output_type": "execute_result"
    },
    {
     "data": {
      "image/png": "[encoded data removed]",
      "text/plain": [
       "<Figure size 432x288 with 1 Axes>"
      ]
     },
     "metadata": {
      "needs_background": "light"
     },
     "output_type": "display_data"
    }
   ],
   "source": [
    "sns.boxplot(data.Insurance_History_5)"
   ]
  },
  {
   "cell_type": "code",
   "execution_count": 34,
   "metadata": {},
   "outputs": [],
   "source": [
    "data.Insurance_History_5.fillna(data.Insurance_History_5.median(),inplace=True)"
   ]
  },
  {
   "cell_type": "code",
   "execution_count": 35,
   "metadata": {},
   "outputs": [
    {
     "data": {
      "text/plain": [
       "Series([], dtype: int64)"
      ]
     },
     "execution_count": 35,
     "metadata": {},
     "output_type": "execute_result"
    }
   ],
   "source": [
    "data.isnull().sum()[data.isnull().sum()!=0]"
   ]
  },
  {
   "cell_type": "code",
   "execution_count": 36,
   "metadata": {},
   "outputs": [
    {
     "data": {
      "text/plain": [
       "Id                    0\n",
       "Product_Info_1        0\n",
       "Product_Info_2        0\n",
       "Product_Info_3        0\n",
       "Product_Info_4        0\n",
       "                     ..\n",
       "Medical_Keyword_45    0\n",
       "Medical_Keyword_46    0\n",
       "Medical_Keyword_47    0\n",
       "Medical_Keyword_48    0\n",
       "Response              0\n",
       "Length: 120, dtype: int64"
      ]
     },
     "execution_count": 36,
     "metadata": {},
     "output_type": "execute_result"
    }
   ],
   "source": [
    "data.isnull().sum()\n",
    "#All missing NA values has been treated"
   ]
  },
  {
   "cell_type": "code",
   "execution_count": null,
   "metadata": {},
   "outputs": [],
   "source": []
  },
  {
   "cell_type": "code",
   "execution_count": null,
   "metadata": {},
   "outputs": [],
   "source": []
  },
  {
   "cell_type": "code",
   "execution_count": null,
   "metadata": {},
   "outputs": [],
   "source": []
  },
  {
   "cell_type": "code",
   "execution_count": null,
   "metadata": {},
   "outputs": [],
   "source": []
  },
  {
   "cell_type": "code",
   "execution_count": null,
   "metadata": {},
   "outputs": [],
   "source": []
  },
  {
   "cell_type": "code",
   "execution_count": null,
   "metadata": {},
   "outputs": [],
   "source": []
  },
  {
   "cell_type": "code",
   "execution_count": null,
   "metadata": {},
   "outputs": [],
   "source": []
  },
  {
   "cell_type": "code",
   "execution_count": 37,
   "metadata": {},
   "outputs": [
    {
     "data": {
      "text/plain": [
       "Product_Info_4        0.202434\n",
       "Ins_Age               0.209610\n",
       "Wt                    0.351395\n",
       "BMI                   0.381601\n",
       "Medical_History_4     0.239896\n",
       "Medical_History_23    0.286584\n",
       "Medical_History_39    0.220176\n",
       "Medical_Keyword_3     0.257706\n",
       "Medical_Keyword_15    0.259169\n",
       "Response              1.000000\n",
       "Name: Response, dtype: float64"
      ]
     },
     "execution_count": 37,
     "metadata": {},
     "output_type": "execute_result"
    }
   ],
   "source": [
    "#Using Pearson Correlation\n",
    "#plt.figure(figsize=(12,10))\n",
    "cor = data.corr()\n",
    "cor_target=abs(cor['Response'])\n",
    "#print(cor_target)\n",
    "relevant_features=cor_target[cor_target>0.2]\n",
    "relevant_features\n",
    "#sns.heatmap(cor, annot=True, cmap=plt.cm.Reds)\n",
    "#plt.show()"
   ]
  },
  {
   "cell_type": "code",
   "execution_count": 38,
   "metadata": {},
   "outputs": [
    {
     "data": {
      "text/html": [
       "<div>\n",
       "<style scoped>\n",
       "    .dataframe tbody tr th:only-of-type {\n",
       "        vertical-align: middle;\n",
       "    }\n",
       "\n",
       "    .dataframe tbody tr th {\n",
       "        vertical-align: top;\n",
       "    }\n",
       "\n",
       "    .dataframe thead th {\n",
       "        text-align: right;\n",
       "    }\n",
       "</style>\n",
       "<table border=\"1\" class=\"dataframe\">\n",
       "  <thead>\n",
       "    <tr style=\"text-align: right;\">\n",
       "      <th></th>\n",
       "      <th>Medical_History_2</th>\n",
       "      <th>Medical_History_6</th>\n",
       "      <th>Medical_History_9</th>\n",
       "      <th>Medical_History_8</th>\n",
       "      <th>Medical_History_3</th>\n",
       "      <th>Medical_History_5</th>\n",
       "      <th>Medical_History_1</th>\n",
       "      <th>Medical_History_12</th>\n",
       "      <th>Medical_History_4</th>\n",
       "      <th>Medical_History_7</th>\n",
       "      <th>Medical_History_11</th>\n",
       "    </tr>\n",
       "  </thead>\n",
       "  <tbody>\n",
       "    <tr>\n",
       "      <th>Medical_History_2</th>\n",
       "      <td>1.000000</td>\n",
       "      <td>-0.003745</td>\n",
       "      <td>-0.038769</td>\n",
       "      <td>0.013783</td>\n",
       "      <td>-0.003485</td>\n",
       "      <td>0.012053</td>\n",
       "      <td>0.051541</td>\n",
       "      <td>0.014591</td>\n",
       "      <td>-0.013331</td>\n",
       "      <td>0.009132</td>\n",
       "      <td>-0.010676</td>\n",
       "    </tr>\n",
       "    <tr>\n",
       "      <th>Medical_History_6</th>\n",
       "      <td>-0.003745</td>\n",
       "      <td>1.000000</td>\n",
       "      <td>0.054622</td>\n",
       "      <td>-0.053952</td>\n",
       "      <td>-0.012913</td>\n",
       "      <td>-0.013710</td>\n",
       "      <td>0.048776</td>\n",
       "      <td>-0.062284</td>\n",
       "      <td>0.065822</td>\n",
       "      <td>0.013766</td>\n",
       "      <td>0.004532</td>\n",
       "    </tr>\n",
       "    <tr>\n",
       "      <th>Medical_History_9</th>\n",
       "      <td>-0.038769</td>\n",
       "      <td>0.054622</td>\n",
       "      <td>1.000000</td>\n",
       "      <td>-0.095099</td>\n",
       "      <td>-0.047936</td>\n",
       "      <td>-0.022577</td>\n",
       "      <td>0.050196</td>\n",
       "      <td>-0.080079</td>\n",
       "      <td>0.056725</td>\n",
       "      <td>0.008751</td>\n",
       "      <td>0.019634</td>\n",
       "    </tr>\n",
       "    <tr>\n",
       "      <th>Medical_History_8</th>\n",
       "      <td>0.013783</td>\n",
       "      <td>-0.053952</td>\n",
       "      <td>-0.095099</td>\n",
       "      <td>1.000000</td>\n",
       "      <td>0.026606</td>\n",
       "      <td>0.013284</td>\n",
       "      <td>-0.042726</td>\n",
       "      <td>0.095977</td>\n",
       "      <td>-0.026925</td>\n",
       "      <td>-0.450764</td>\n",
       "      <td>-0.013255</td>\n",
       "    </tr>\n",
       "    <tr>\n",
       "      <th>Medical_History_3</th>\n",
       "      <td>-0.003485</td>\n",
       "      <td>-0.012913</td>\n",
       "      <td>-0.047936</td>\n",
       "      <td>0.026606</td>\n",
       "      <td>1.000000</td>\n",
       "      <td>0.000227</td>\n",
       "      <td>-0.015535</td>\n",
       "      <td>0.036681</td>\n",
       "      <td>0.037736</td>\n",
       "      <td>-0.000156</td>\n",
       "      <td>-0.003267</td>\n",
       "    </tr>\n",
       "    <tr>\n",
       "      <th>Medical_History_5</th>\n",
       "      <td>0.012053</td>\n",
       "      <td>-0.013710</td>\n",
       "      <td>-0.022577</td>\n",
       "      <td>0.013284</td>\n",
       "      <td>0.000227</td>\n",
       "      <td>1.000000</td>\n",
       "      <td>-0.006863</td>\n",
       "      <td>0.018044</td>\n",
       "      <td>-0.009563</td>\n",
       "      <td>0.004136</td>\n",
       "      <td>-0.002688</td>\n",
       "    </tr>\n",
       "    <tr>\n",
       "      <th>Medical_History_1</th>\n",
       "      <td>0.051541</td>\n",
       "      <td>0.048776</td>\n",
       "      <td>0.050196</td>\n",
       "      <td>-0.042726</td>\n",
       "      <td>-0.015535</td>\n",
       "      <td>-0.006863</td>\n",
       "      <td>1.000000</td>\n",
       "      <td>-0.031521</td>\n",
       "      <td>0.002901</td>\n",
       "      <td>0.024459</td>\n",
       "      <td>0.003082</td>\n",
       "    </tr>\n",
       "    <tr>\n",
       "      <th>Medical_History_12</th>\n",
       "      <td>0.014591</td>\n",
       "      <td>-0.062284</td>\n",
       "      <td>-0.080079</td>\n",
       "      <td>0.095977</td>\n",
       "      <td>0.036681</td>\n",
       "      <td>0.018044</td>\n",
       "      <td>-0.031521</td>\n",
       "      <td>1.000000</td>\n",
       "      <td>-0.045059</td>\n",
       "      <td>-0.038998</td>\n",
       "      <td>-0.017029</td>\n",
       "    </tr>\n",
       "    <tr>\n",
       "      <th>Medical_History_4</th>\n",
       "      <td>-0.013331</td>\n",
       "      <td>0.065822</td>\n",
       "      <td>0.056725</td>\n",
       "      <td>-0.026925</td>\n",
       "      <td>0.037736</td>\n",
       "      <td>-0.009563</td>\n",
       "      <td>0.002901</td>\n",
       "      <td>-0.045059</td>\n",
       "      <td>1.000000</td>\n",
       "      <td>-0.005221</td>\n",
       "      <td>0.011029</td>\n",
       "    </tr>\n",
       "    <tr>\n",
       "      <th>Medical_History_7</th>\n",
       "      <td>0.009132</td>\n",
       "      <td>0.013766</td>\n",
       "      <td>0.008751</td>\n",
       "      <td>-0.450764</td>\n",
       "      <td>-0.000156</td>\n",
       "      <td>0.004136</td>\n",
       "      <td>0.024459</td>\n",
       "      <td>-0.038998</td>\n",
       "      <td>-0.005221</td>\n",
       "      <td>1.000000</td>\n",
       "      <td>0.001530</td>\n",
       "    </tr>\n",
       "    <tr>\n",
       "      <th>Medical_History_11</th>\n",
       "      <td>-0.010676</td>\n",
       "      <td>0.004532</td>\n",
       "      <td>0.019634</td>\n",
       "      <td>-0.013255</td>\n",
       "      <td>-0.003267</td>\n",
       "      <td>-0.002688</td>\n",
       "      <td>0.003082</td>\n",
       "      <td>-0.017029</td>\n",
       "      <td>0.011029</td>\n",
       "      <td>0.001530</td>\n",
       "      <td>1.000000</td>\n",
       "    </tr>\n",
       "  </tbody>\n",
       "</table>\n",
       "</div>"
      ],
      "text/plain": [
       "                    Medical_History_2  Medical_History_6  Medical_History_9  \\\n",
       "Medical_History_2            1.000000          -0.003745          -0.038769   \n",
       "Medical_History_6           -0.003745           1.000000           0.054622   \n",
       "Medical_History_9           -0.038769           0.054622           1.000000   \n",
       "Medical_History_8            0.013783          -0.053952          -0.095099   \n",
       "Medical_History_3           -0.003485          -0.012913          -0.047936   \n",
       "Medical_History_5            0.012053          -0.013710          -0.022577   \n",
       "Medical_History_1            0.051541           0.048776           0.050196   \n",
       "Medical_History_12           0.014591          -0.062284          -0.080079   \n",
       "Medical_History_4           -0.013331           0.065822           0.056725   \n",
       "Medical_History_7            0.009132           0.013766           0.008751   \n",
       "Medical_History_11          -0.010676           0.004532           0.019634   \n",
       "\n",
       "                    Medical_History_8  Medical_History_3  Medical_History_5  \\\n",
       "Medical_History_2            0.013783          -0.003485           0.012053   \n",
       "Medical_History_6           -0.053952          -0.012913          -0.013710   \n",
       "Medical_History_9           -0.095099          -0.047936          -0.022577   \n",
       "Medical_History_8            1.000000           0.026606           0.013284   \n",
       "Medical_History_3            0.026606           1.000000           0.000227   \n",
       "Medical_History_5            0.013284           0.000227           1.000000   \n",
       "Medical_History_1           -0.042726          -0.015535          -0.006863   \n",
       "Medical_History_12           0.095977           0.036681           0.018044   \n",
       "Medical_History_4           -0.026925           0.037736          -0.009563   \n",
       "Medical_History_7           -0.450764          -0.000156           0.004136   \n",
       "Medical_History_11          -0.013255          -0.003267          -0.002688   \n",
       "\n",
       "                    Medical_History_1  Medical_History_12  Medical_History_4  \\\n",
       "Medical_History_2            0.051541            0.014591          -0.013331   \n",
       "Medical_History_6            0.048776           -0.062284           0.065822   \n",
       "Medical_History_9            0.050196           -0.080079           0.056725   \n",
       "Medical_History_8           -0.042726            0.095977          -0.026925   \n",
       "Medical_History_3           -0.015535            0.036681           0.037736   \n",
       "Medical_History_5           -0.006863            0.018044          -0.009563   \n",
       "Medical_History_1            1.000000           -0.031521           0.002901   \n",
       "Medical_History_12          -0.031521            1.000000          -0.045059   \n",
       "Medical_History_4            0.002901           -0.045059           1.000000   \n",
       "Medical_History_7            0.024459           -0.038998          -0.005221   \n",
       "Medical_History_11           0.003082           -0.017029           0.011029   \n",
       "\n",
       "                    Medical_History_7  Medical_History_11  \n",
       "Medical_History_2            0.009132           -0.010676  \n",
       "Medical_History_6            0.013766            0.004532  \n",
       "Medical_History_9            0.008751            0.019634  \n",
       "Medical_History_8           -0.450764           -0.013255  \n",
       "Medical_History_3           -0.000156           -0.003267  \n",
       "Medical_History_5            0.004136           -0.002688  \n",
       "Medical_History_1            0.024459            0.003082  \n",
       "Medical_History_12          -0.038998           -0.017029  \n",
       "Medical_History_4           -0.005221            0.011029  \n",
       "Medical_History_7            1.000000            0.001530  \n",
       "Medical_History_11           0.001530            1.000000  "
      ]
     },
     "execution_count": 38,
     "metadata": {},
     "output_type": "execute_result"
    }
   ],
   "source": [
    "mh=('Medical_History_1', 'Medical_History_2', 'Medical_History_3', 'Medical_History_4', 'Medical_History_5', 'Medical_History_6','Medical_History_7', 'Medical_History_8', 'Medical_History_9', 'Medical_History_11', 'Medical_History_12')\n",
    "\n",
    "data[set(mh)].corr()\n",
    "#data['Medical_History_1'].corr(data['Medical_History_2'])"
   ]
  },
  {
   "cell_type": "code",
   "execution_count": 39,
   "metadata": {},
   "outputs": [
    {
     "name": "stdout",
     "output_type": "stream",
     "text": [
      "<class 'pandas.core.frame.DataFrame'>\n",
      "RangeIndex: 59381 entries, 0 to 59380\n",
      "Columns: 120 entries, Id to Response\n",
      "dtypes: float64(10), int64(109), object(1)\n",
      "memory usage: 54.4+ MB\n"
     ]
    }
   ],
   "source": [
    "data.info()"
   ]
  },
  {
   "cell_type": "code",
   "execution_count": 40,
   "metadata": {},
   "outputs": [
    {
     "data": {
      "text/html": [
       "<div>\n",
       "<style scoped>\n",
       "    .dataframe tbody tr th:only-of-type {\n",
       "        vertical-align: middle;\n",
       "    }\n",
       "\n",
       "    .dataframe tbody tr th {\n",
       "        vertical-align: top;\n",
       "    }\n",
       "\n",
       "    .dataframe thead th {\n",
       "        text-align: right;\n",
       "    }\n",
       "</style>\n",
       "<table border=\"1\" class=\"dataframe\">\n",
       "  <thead>\n",
       "    <tr style=\"text-align: right;\">\n",
       "      <th></th>\n",
       "      <th>Id</th>\n",
       "      <th>Product_Info_1</th>\n",
       "      <th>Product_Info_2</th>\n",
       "      <th>Product_Info_3</th>\n",
       "      <th>Product_Info_4</th>\n",
       "      <th>Product_Info_5</th>\n",
       "      <th>Product_Info_6</th>\n",
       "      <th>Product_Info_7</th>\n",
       "      <th>Ins_Age</th>\n",
       "      <th>Ht</th>\n",
       "      <th>...</th>\n",
       "      <th>Medical_Keyword_40</th>\n",
       "      <th>Medical_Keyword_41</th>\n",
       "      <th>Medical_Keyword_42</th>\n",
       "      <th>Medical_Keyword_43</th>\n",
       "      <th>Medical_Keyword_44</th>\n",
       "      <th>Medical_Keyword_45</th>\n",
       "      <th>Medical_Keyword_46</th>\n",
       "      <th>Medical_Keyword_47</th>\n",
       "      <th>Medical_Keyword_48</th>\n",
       "      <th>Response</th>\n",
       "    </tr>\n",
       "  </thead>\n",
       "  <tbody>\n",
       "    <tr>\n",
       "      <th>0</th>\n",
       "      <td>2</td>\n",
       "      <td>1</td>\n",
       "      <td>D3</td>\n",
       "      <td>10</td>\n",
       "      <td>0.076923</td>\n",
       "      <td>2</td>\n",
       "      <td>1</td>\n",
       "      <td>1</td>\n",
       "      <td>0.641791</td>\n",
       "      <td>0.581818</td>\n",
       "      <td>...</td>\n",
       "      <td>0</td>\n",
       "      <td>0</td>\n",
       "      <td>0</td>\n",
       "      <td>0</td>\n",
       "      <td>0</td>\n",
       "      <td>0</td>\n",
       "      <td>0</td>\n",
       "      <td>0</td>\n",
       "      <td>0</td>\n",
       "      <td>8</td>\n",
       "    </tr>\n",
       "    <tr>\n",
       "      <th>1</th>\n",
       "      <td>5</td>\n",
       "      <td>1</td>\n",
       "      <td>A1</td>\n",
       "      <td>26</td>\n",
       "      <td>0.076923</td>\n",
       "      <td>2</td>\n",
       "      <td>3</td>\n",
       "      <td>1</td>\n",
       "      <td>0.059701</td>\n",
       "      <td>0.600000</td>\n",
       "      <td>...</td>\n",
       "      <td>0</td>\n",
       "      <td>0</td>\n",
       "      <td>0</td>\n",
       "      <td>0</td>\n",
       "      <td>0</td>\n",
       "      <td>0</td>\n",
       "      <td>0</td>\n",
       "      <td>0</td>\n",
       "      <td>0</td>\n",
       "      <td>4</td>\n",
       "    </tr>\n",
       "    <tr>\n",
       "      <th>2</th>\n",
       "      <td>6</td>\n",
       "      <td>1</td>\n",
       "      <td>E1</td>\n",
       "      <td>26</td>\n",
       "      <td>0.076923</td>\n",
       "      <td>2</td>\n",
       "      <td>3</td>\n",
       "      <td>1</td>\n",
       "      <td>0.029851</td>\n",
       "      <td>0.745455</td>\n",
       "      <td>...</td>\n",
       "      <td>0</td>\n",
       "      <td>0</td>\n",
       "      <td>0</td>\n",
       "      <td>0</td>\n",
       "      <td>0</td>\n",
       "      <td>0</td>\n",
       "      <td>0</td>\n",
       "      <td>0</td>\n",
       "      <td>0</td>\n",
       "      <td>8</td>\n",
       "    </tr>\n",
       "    <tr>\n",
       "      <th>3</th>\n",
       "      <td>7</td>\n",
       "      <td>1</td>\n",
       "      <td>D4</td>\n",
       "      <td>10</td>\n",
       "      <td>0.487179</td>\n",
       "      <td>2</td>\n",
       "      <td>3</td>\n",
       "      <td>1</td>\n",
       "      <td>0.164179</td>\n",
       "      <td>0.672727</td>\n",
       "      <td>...</td>\n",
       "      <td>0</td>\n",
       "      <td>0</td>\n",
       "      <td>0</td>\n",
       "      <td>0</td>\n",
       "      <td>0</td>\n",
       "      <td>0</td>\n",
       "      <td>0</td>\n",
       "      <td>0</td>\n",
       "      <td>0</td>\n",
       "      <td>8</td>\n",
       "    </tr>\n",
       "    <tr>\n",
       "      <th>4</th>\n",
       "      <td>8</td>\n",
       "      <td>1</td>\n",
       "      <td>D2</td>\n",
       "      <td>26</td>\n",
       "      <td>0.230769</td>\n",
       "      <td>2</td>\n",
       "      <td>3</td>\n",
       "      <td>1</td>\n",
       "      <td>0.417910</td>\n",
       "      <td>0.654545</td>\n",
       "      <td>...</td>\n",
       "      <td>0</td>\n",
       "      <td>0</td>\n",
       "      <td>0</td>\n",
       "      <td>0</td>\n",
       "      <td>0</td>\n",
       "      <td>0</td>\n",
       "      <td>0</td>\n",
       "      <td>0</td>\n",
       "      <td>0</td>\n",
       "      <td>8</td>\n",
       "    </tr>\n",
       "  </tbody>\n",
       "</table>\n",
       "<p>5 rows × 120 columns</p>\n",
       "</div>"
      ],
      "text/plain": [
       "   Id  Product_Info_1 Product_Info_2  Product_Info_3  Product_Info_4  \\\n",
       "0   2               1             D3              10        0.076923   \n",
       "1   5               1             A1              26        0.076923   \n",
       "2   6               1             E1              26        0.076923   \n",
       "3   7               1             D4              10        0.487179   \n",
       "4   8               1             D2              26        0.230769   \n",
       "\n",
       "   Product_Info_5  Product_Info_6  Product_Info_7   Ins_Age        Ht  ...  \\\n",
       "0               2               1               1  0.641791  0.581818  ...   \n",
       "1               2               3               1  0.059701  0.600000  ...   \n",
       "2               2               3               1  0.029851  0.745455  ...   \n",
       "3               2               3               1  0.164179  0.672727  ...   \n",
       "4               2               3               1  0.417910  0.654545  ...   \n",
       "\n",
       "   Medical_Keyword_40  Medical_Keyword_41  Medical_Keyword_42  \\\n",
       "0                   0                   0                   0   \n",
       "1                   0                   0                   0   \n",
       "2                   0                   0                   0   \n",
       "3                   0                   0                   0   \n",
       "4                   0                   0                   0   \n",
       "\n",
       "   Medical_Keyword_43  Medical_Keyword_44  Medical_Keyword_45  \\\n",
       "0                   0                   0                   0   \n",
       "1                   0                   0                   0   \n",
       "2                   0                   0                   0   \n",
       "3                   0                   0                   0   \n",
       "4                   0                   0                   0   \n",
       "\n",
       "   Medical_Keyword_46  Medical_Keyword_47  Medical_Keyword_48  Response  \n",
       "0                   0                   0                   0         8  \n",
       "1                   0                   0                   0         4  \n",
       "2                   0                   0                   0         8  \n",
       "3                   0                   0                   0         8  \n",
       "4                   0                   0                   0         8  \n",
       "\n",
       "[5 rows x 120 columns]"
      ]
     },
     "execution_count": 40,
     "metadata": {},
     "output_type": "execute_result"
    }
   ],
   "source": [
    "data.head()"
   ]
  },
  {
   "cell_type": "code",
   "execution_count": 41,
   "metadata": {},
   "outputs": [
    {
     "data": {
      "text/plain": [
       "array(['D3', 'A1', 'E1', 'D4', 'D2', 'A8', 'A2', 'D1', 'A7', 'A6', 'A3',\n",
       "       'A5', 'C4', 'C1', 'B2', 'C3', 'C2', 'A4', 'B1'], dtype=object)"
      ]
     },
     "execution_count": 41,
     "metadata": {},
     "output_type": "execute_result"
    }
   ],
   "source": [
    "data.Product_Info_2.unique()"
   ]
  },
  {
   "cell_type": "code",
   "execution_count": 42,
   "metadata": {},
   "outputs": [
    {
     "name": "stdout",
     "output_type": "stream",
     "text": [
      "          Id  Product_Info_1  Product_Info_3  Product_Info_4  Product_Info_5  \\\n",
      "0          2               1              10        0.076923               2   \n",
      "1          5               1              26        0.076923               2   \n",
      "2          6               1              26        0.076923               2   \n",
      "3          7               1              10        0.487179               2   \n",
      "4          8               1              26        0.230769               2   \n",
      "...      ...             ...             ...             ...             ...   \n",
      "59376  79142               1              10        0.230769               2   \n",
      "59377  79143               1              26        0.230769               2   \n",
      "59378  79144               1              26        0.076923               2   \n",
      "59379  79145               1              10        0.230769               2   \n",
      "59380  79146               1              26        0.076923               2   \n",
      "\n",
      "       Product_Info_6  Product_Info_7   Ins_Age        Ht        Wt  ...  \\\n",
      "0                   1               1  0.641791  0.581818  0.148536  ...   \n",
      "1                   3               1  0.059701  0.600000  0.131799  ...   \n",
      "2                   3               1  0.029851  0.745455  0.288703  ...   \n",
      "3                   3               1  0.164179  0.672727  0.205021  ...   \n",
      "4                   3               1  0.417910  0.654545  0.234310  ...   \n",
      "...               ...             ...       ...       ...       ...  ...   \n",
      "59376               3               1  0.074627  0.709091  0.320084  ...   \n",
      "59377               3               1  0.432836  0.800000  0.403766  ...   \n",
      "59378               3               1  0.104478  0.745455  0.246862  ...   \n",
      "59379               3               1  0.507463  0.690909  0.276151  ...   \n",
      "59380               3               1  0.447761  0.781818  0.382845  ...   \n",
      "\n",
      "       Product_Info_2_B2  Product_Info_2_C1  Product_Info_2_C2  \\\n",
      "0                      0                  0                  0   \n",
      "1                      0                  0                  0   \n",
      "2                      0                  0                  0   \n",
      "3                      0                  0                  0   \n",
      "4                      0                  0                  0   \n",
      "...                  ...                ...                ...   \n",
      "59376                  0                  0                  0   \n",
      "59377                  0                  0                  0   \n",
      "59378                  0                  0                  0   \n",
      "59379                  0                  0                  0   \n",
      "59380                  0                  0                  0   \n",
      "\n",
      "       Product_Info_2_C3  Product_Info_2_C4  Product_Info_2_D1  \\\n",
      "0                      0                  0                  0   \n",
      "1                      0                  0                  0   \n",
      "2                      0                  0                  0   \n",
      "3                      0                  0                  0   \n",
      "4                      0                  0                  0   \n",
      "...                  ...                ...                ...   \n",
      "59376                  0                  0                  1   \n",
      "59377                  0                  0                  0   \n",
      "59378                  0                  0                  0   \n",
      "59379                  0                  0                  0   \n",
      "59380                  0                  0                  0   \n",
      "\n",
      "       Product_Info_2_D2  Product_Info_2_D3  Product_Info_2_D4  \\\n",
      "0                      0                  1                  0   \n",
      "1                      0                  0                  0   \n",
      "2                      0                  0                  0   \n",
      "3                      0                  0                  1   \n",
      "4                      1                  0                  0   \n",
      "...                  ...                ...                ...   \n",
      "59376                  0                  0                  0   \n",
      "59377                  0                  1                  0   \n",
      "59378                  0                  0                  0   \n",
      "59379                  1                  0                  0   \n",
      "59380                  0                  0                  0   \n",
      "\n",
      "       Product_Info_2_E1  \n",
      "0                      0  \n",
      "1                      0  \n",
      "2                      1  \n",
      "3                      0  \n",
      "4                      0  \n",
      "...                  ...  \n",
      "59376                  0  \n",
      "59377                  0  \n",
      "59378                  1  \n",
      "59379                  0  \n",
      "59380                  0  \n",
      "\n",
      "[59381 rows x 138 columns]\n"
     ]
    }
   ],
   "source": [
    "#from sklearn.preprocessing import LabelEncoder\n",
    "#le=LabelEncoder()\n",
    "#data['Product_Info_2']=le.fit_transform(data['Product_Info_2'])\n",
    "\n",
    "from sklearn.preprocessing import LabelEncoder\n",
    "#le=LabelEncoder()\n",
    "#data['Product_Info_2']=le.fit_transform(data['Product_Info_2'])\n",
    "\n",
    "\n",
    "data = pd.get_dummies(data, columns=['Product_Info_2'])\n",
    "print(data)"
   ]
  },
  {
   "cell_type": "code",
   "execution_count": 43,
   "metadata": {},
   "outputs": [
    {
     "data": {
      "text/html": [
       "<div>\n",
       "<style scoped>\n",
       "    .dataframe tbody tr th:only-of-type {\n",
       "        vertical-align: middle;\n",
       "    }\n",
       "\n",
       "    .dataframe tbody tr th {\n",
       "        vertical-align: top;\n",
       "    }\n",
       "\n",
       "    .dataframe thead th {\n",
       "        text-align: right;\n",
       "    }\n",
       "</style>\n",
       "<table border=\"1\" class=\"dataframe\">\n",
       "  <thead>\n",
       "    <tr style=\"text-align: right;\">\n",
       "      <th></th>\n",
       "      <th>Id</th>\n",
       "      <th>Product_Info_1</th>\n",
       "      <th>Product_Info_3</th>\n",
       "      <th>Product_Info_4</th>\n",
       "      <th>Product_Info_5</th>\n",
       "      <th>Product_Info_6</th>\n",
       "      <th>Product_Info_7</th>\n",
       "      <th>Ins_Age</th>\n",
       "      <th>Ht</th>\n",
       "      <th>Wt</th>\n",
       "      <th>...</th>\n",
       "      <th>Product_Info_2_B2</th>\n",
       "      <th>Product_Info_2_C1</th>\n",
       "      <th>Product_Info_2_C2</th>\n",
       "      <th>Product_Info_2_C3</th>\n",
       "      <th>Product_Info_2_C4</th>\n",
       "      <th>Product_Info_2_D1</th>\n",
       "      <th>Product_Info_2_D2</th>\n",
       "      <th>Product_Info_2_D3</th>\n",
       "      <th>Product_Info_2_D4</th>\n",
       "      <th>Product_Info_2_E1</th>\n",
       "    </tr>\n",
       "  </thead>\n",
       "  <tbody>\n",
       "    <tr>\n",
       "      <th>0</th>\n",
       "      <td>2</td>\n",
       "      <td>1</td>\n",
       "      <td>10</td>\n",
       "      <td>0.076923</td>\n",
       "      <td>2</td>\n",
       "      <td>1</td>\n",
       "      <td>1</td>\n",
       "      <td>0.641791</td>\n",
       "      <td>0.581818</td>\n",
       "      <td>0.148536</td>\n",
       "      <td>...</td>\n",
       "      <td>0</td>\n",
       "      <td>0</td>\n",
       "      <td>0</td>\n",
       "      <td>0</td>\n",
       "      <td>0</td>\n",
       "      <td>0</td>\n",
       "      <td>0</td>\n",
       "      <td>1</td>\n",
       "      <td>0</td>\n",
       "      <td>0</td>\n",
       "    </tr>\n",
       "    <tr>\n",
       "      <th>1</th>\n",
       "      <td>5</td>\n",
       "      <td>1</td>\n",
       "      <td>26</td>\n",
       "      <td>0.076923</td>\n",
       "      <td>2</td>\n",
       "      <td>3</td>\n",
       "      <td>1</td>\n",
       "      <td>0.059701</td>\n",
       "      <td>0.600000</td>\n",
       "      <td>0.131799</td>\n",
       "      <td>...</td>\n",
       "      <td>0</td>\n",
       "      <td>0</td>\n",
       "      <td>0</td>\n",
       "      <td>0</td>\n",
       "      <td>0</td>\n",
       "      <td>0</td>\n",
       "      <td>0</td>\n",
       "      <td>0</td>\n",
       "      <td>0</td>\n",
       "      <td>0</td>\n",
       "    </tr>\n",
       "    <tr>\n",
       "      <th>2</th>\n",
       "      <td>6</td>\n",
       "      <td>1</td>\n",
       "      <td>26</td>\n",
       "      <td>0.076923</td>\n",
       "      <td>2</td>\n",
       "      <td>3</td>\n",
       "      <td>1</td>\n",
       "      <td>0.029851</td>\n",
       "      <td>0.745455</td>\n",
       "      <td>0.288703</td>\n",
       "      <td>...</td>\n",
       "      <td>0</td>\n",
       "      <td>0</td>\n",
       "      <td>0</td>\n",
       "      <td>0</td>\n",
       "      <td>0</td>\n",
       "      <td>0</td>\n",
       "      <td>0</td>\n",
       "      <td>0</td>\n",
       "      <td>0</td>\n",
       "      <td>1</td>\n",
       "    </tr>\n",
       "    <tr>\n",
       "      <th>3</th>\n",
       "      <td>7</td>\n",
       "      <td>1</td>\n",
       "      <td>10</td>\n",
       "      <td>0.487179</td>\n",
       "      <td>2</td>\n",
       "      <td>3</td>\n",
       "      <td>1</td>\n",
       "      <td>0.164179</td>\n",
       "      <td>0.672727</td>\n",
       "      <td>0.205021</td>\n",
       "      <td>...</td>\n",
       "      <td>0</td>\n",
       "      <td>0</td>\n",
       "      <td>0</td>\n",
       "      <td>0</td>\n",
       "      <td>0</td>\n",
       "      <td>0</td>\n",
       "      <td>0</td>\n",
       "      <td>0</td>\n",
       "      <td>1</td>\n",
       "      <td>0</td>\n",
       "    </tr>\n",
       "    <tr>\n",
       "      <th>4</th>\n",
       "      <td>8</td>\n",
       "      <td>1</td>\n",
       "      <td>26</td>\n",
       "      <td>0.230769</td>\n",
       "      <td>2</td>\n",
       "      <td>3</td>\n",
       "      <td>1</td>\n",
       "      <td>0.417910</td>\n",
       "      <td>0.654545</td>\n",
       "      <td>0.234310</td>\n",
       "      <td>...</td>\n",
       "      <td>0</td>\n",
       "      <td>0</td>\n",
       "      <td>0</td>\n",
       "      <td>0</td>\n",
       "      <td>0</td>\n",
       "      <td>0</td>\n",
       "      <td>1</td>\n",
       "      <td>0</td>\n",
       "      <td>0</td>\n",
       "      <td>0</td>\n",
       "    </tr>\n",
       "  </tbody>\n",
       "</table>\n",
       "<p>5 rows × 138 columns</p>\n",
       "</div>"
      ],
      "text/plain": [
       "   Id  Product_Info_1  Product_Info_3  Product_Info_4  Product_Info_5  \\\n",
       "0   2               1              10        0.076923               2   \n",
       "1   5               1              26        0.076923               2   \n",
       "2   6               1              26        0.076923               2   \n",
       "3   7               1              10        0.487179               2   \n",
       "4   8               1              26        0.230769               2   \n",
       "\n",
       "   Product_Info_6  Product_Info_7   Ins_Age        Ht        Wt  ...  \\\n",
       "0               1               1  0.641791  0.581818  0.148536  ...   \n",
       "1               3               1  0.059701  0.600000  0.131799  ...   \n",
       "2               3               1  0.029851  0.745455  0.288703  ...   \n",
       "3               3               1  0.164179  0.672727  0.205021  ...   \n",
       "4               3               1  0.417910  0.654545  0.234310  ...   \n",
       "\n",
       "   Product_Info_2_B2  Product_Info_2_C1  Product_Info_2_C2  Product_Info_2_C3  \\\n",
       "0                  0                  0                  0                  0   \n",
       "1                  0                  0                  0                  0   \n",
       "2                  0                  0                  0                  0   \n",
       "3                  0                  0                  0                  0   \n",
       "4                  0                  0                  0                  0   \n",
       "\n",
       "   Product_Info_2_C4  Product_Info_2_D1  Product_Info_2_D2  Product_Info_2_D3  \\\n",
       "0                  0                  0                  0                  1   \n",
       "1                  0                  0                  0                  0   \n",
       "2                  0                  0                  0                  0   \n",
       "3                  0                  0                  0                  0   \n",
       "4                  0                  0                  1                  0   \n",
       "\n",
       "   Product_Info_2_D4  Product_Info_2_E1  \n",
       "0                  0                  0  \n",
       "1                  0                  0  \n",
       "2                  0                  1  \n",
       "3                  1                  0  \n",
       "4                  0                  0  \n",
       "\n",
       "[5 rows x 138 columns]"
      ]
     },
     "execution_count": 43,
     "metadata": {},
     "output_type": "execute_result"
    }
   ],
   "source": [
    "data.head()"
   ]
  },
  {
   "cell_type": "markdown",
   "metadata": {},
   "source": [
    "# Model development taking all the columns"
   ]
  },
  {
   "cell_type": "code",
   "execution_count": 44,
   "metadata": {},
   "outputs": [],
   "source": [
    "# feature meatrix and response vector seperation\n",
    "X=data.iloc[:,0:-1]\n",
    "y=data['Response']\n",
    "X.drop('Id',axis=1,inplace=True)\n"
   ]
  },
  {
   "cell_type": "code",
   "execution_count": 45,
   "metadata": {},
   "outputs": [
    {
     "name": "stdout",
     "output_type": "stream",
     "text": [
      "Shape of X is : (59381, 136)\n",
      "Shape of y is : (59381,)\n"
     ]
    }
   ],
   "source": [
    "print('Shape of X is :', X.shape)\n",
    "print('Shape of y is :',y.shape)"
   ]
  },
  {
   "cell_type": "markdown",
   "metadata": {},
   "source": [
    "## Split Data in Train Test"
   ]
  },
  {
   "cell_type": "code",
   "execution_count": 102,
   "metadata": {},
   "outputs": [],
   "source": [
    "#splitting the data into 80% train and 20% test\n",
    "\n",
    "from sklearn.model_selection import train_test_split\n",
    "\n",
    "def split(X,y):\n",
    "    return train_test_split(X,y, test_size=0.25, random_state=25, shuffle=True)\n",
    "\n",
    "X_train, X_test, y_train, y_test=split(X,y)"
   ]
  },
  {
   "cell_type": "code",
   "execution_count": 103,
   "metadata": {},
   "outputs": [
    {
     "name": "stdout",
     "output_type": "stream",
     "text": [
      "Shape of X_train is : (44535, 136)\n",
      "Shape of y_train is : (44535,)\n"
     ]
    }
   ],
   "source": [
    "print('Shape of X_train is :', X_train.shape)\n",
    "print('Shape of y_train is :',y_train.shape)"
   ]
  },
  {
   "cell_type": "code",
   "execution_count": 104,
   "metadata": {},
   "outputs": [
    {
     "name": "stdout",
     "output_type": "stream",
     "text": [
      "Shape of X_test is : (14846, 136)\n",
      "Shape of y_test is : (14846,)\n"
     ]
    }
   ],
   "source": [
    "print('Shape of X_test is :', X_test.shape)\n",
    "print('Shape of y_test is :',y_test.shape)"
   ]
  },
  {
   "cell_type": "code",
   "execution_count": 110,
   "metadata": {},
   "outputs": [
    {
     "data": {
      "text/plain": [
       "array([6, 8, 2, 5, 1, 7, 4, 3])"
      ]
     },
     "execution_count": 110,
     "metadata": {},
     "output_type": "execute_result"
    }
   ],
   "source": [
    "# check if the train data covers all classes\n",
    "y_train.unique()"
   ]
  },
  {
   "cell_type": "code",
   "execution_count": 105,
   "metadata": {},
   "outputs": [
    {
     "data": {
      "text/plain": [
       "array([8, 6, 2, 5, 1, 7, 3, 4])"
      ]
     },
     "execution_count": 105,
     "metadata": {},
     "output_type": "execute_result"
    }
   ],
   "source": [
    "# check if the test data covers all classes \n",
    "y_test.unique()"
   ]
  },
  {
   "cell_type": "code",
   "execution_count": 111,
   "metadata": {},
   "outputs": [],
   "source": [
    "from sklearn.metrics import accuracy_score,confusion_matrix\n",
    "from sklearn.model_selection import cross_val_score,GridSearchCV\n"
   ]
  },
  {
   "cell_type": "markdown",
   "metadata": {},
   "source": [
    "## Model 1 - Decision Tree"
   ]
  },
  {
   "cell_type": "code",
   "execution_count": 148,
   "metadata": {},
   "outputs": [
    {
     "name": "stdout",
     "output_type": "stream",
     "text": [
      "Accuracy with all default:  1.0\n"
     ]
    }
   ],
   "source": [
    "# Using a Decision Tree classifier without any attributes\n",
    "from sklearn.tree import DecisionTreeClassifier\n",
    "DT1=DecisionTreeClassifier()\n",
    "model_DT1=DT1.fit(X_train,y_train)\n",
    "y_pred=model_DT1.predict(X_test)\n",
    "print(\"Accuracy with all default: \" , accuracy_score(y_test,y_pred))"
   ]
  },
  {
   "cell_type": "code",
   "execution_count": 150,
   "metadata": {},
   "outputs": [
    {
     "name": "stdout",
     "output_type": "stream",
     "text": [
      "Accuracy with Entropy:  1.0\n"
     ]
    }
   ],
   "source": [
    "# Using a Decision Tree classifier with Random_state, Criterion \n",
    "from sklearn.tree import DecisionTreeClassifier\n",
    "DT2=DecisionTreeClassifier(random_state = 0, criterion='entropy')\n",
    "model_DT2=DT2.fit(X_train,y_train)\n",
    "y_pred=model_DT2.predict(X_test)\n",
    "print(\"Accuracy with Entropy: \" ,accuracy_score(y_test,y_pred))"
   ]
  },
  {
   "cell_type": "code",
   "execution_count": 147,
   "metadata": {},
   "outputs": [
    {
     "name": "stdout",
     "output_type": "stream",
     "text": [
      "Accuracy with Entropy and max_dept=4 :  0.9812744173514751\n"
     ]
    }
   ],
   "source": [
    "# Using a Decision Tree classifier with Random_state, Criterion , max_depth\n",
    "from sklearn.tree import DecisionTreeClassifier\n",
    "DT2=DecisionTreeClassifier(random_state = 0, criterion='entropy', max_depth=4)\n",
    "model_DT2=DT2.fit(X_train,y_train)\n",
    "y_pred=model_DT2.predict(X_test)\n",
    "print(\"Accuracy with Entropy and max_dept=4 : \" ,accuracy_score(y_test,y_pred))"
   ]
  },
  {
   "cell_type": "markdown",
   "metadata": {},
   "source": [
    "## Model 2 - Decision Tree Classifier with GridSearchCV\n"
   ]
  },
  {
   "cell_type": "code",
   "execution_count": 153,
   "metadata": {},
   "outputs": [
    {
     "name": "stdout",
     "output_type": "stream",
     "text": [
      "Accuracy with GridSearchCV:  1.0\n"
     ]
    }
   ],
   "source": [
    "# Using a Decision Tree classifier with GridSearchCV\n",
    "from sklearn.tree import DecisionTreeClassifier\n",
    "param_grid={'max_depth':range(1,20,2)}\n",
    "DT=DecisionTreeClassifier()\n",
    "clf_DT=GridSearchCV(DT,param_grid,cv=10,scoring='accuracy',n_jobs=-1).fit(X_train,y_train)\n",
    "model_DT=clf_DT.fit(X_train,y_train)\n",
    "y_pred=model_DT.predict(X_test)\n",
    "print(\"Accuracy with GridSearchCV: \" ,accuracy_score(y_test,y_pred))"
   ]
  },
  {
   "cell_type": "markdown",
   "metadata": {},
   "source": [
    "## Model 3 - Random Forest Classifier"
   ]
  },
  {
   "cell_type": "code",
   "execution_count": 52,
   "metadata": {},
   "outputs": [],
   "source": [
    "from sklearn.ensemble import RandomForestClassifier\n",
    "model1 = RandomForestClassifier(random_state = 0)"
   ]
  },
  {
   "cell_type": "code",
   "execution_count": 53,
   "metadata": {},
   "outputs": [],
   "source": [
    "model2 = RandomForestClassifier(criterion='entropy',\n",
    "                                n_estimators=6,\n",
    "                                random_state = 0,\n",
    "                                max_depth=3,\n",
    "                                min_samples_split=5,\n",
    "                                min_samples_leaf=4,\n",
    "                                max_leaf_nodes=5,\n",
    "                                n_jobs=-1,\n",
    "                                )"
   ]
  },
  {
   "cell_type": "code",
   "execution_count": 54,
   "metadata": {},
   "outputs": [
    {
     "data": {
      "text/plain": [
       "RandomForestClassifier(random_state=0)"
      ]
     },
     "execution_count": 54,
     "metadata": {},
     "output_type": "execute_result"
    }
   ],
   "source": [
    "model1.fit(X_train,y_train)"
   ]
  },
  {
   "cell_type": "code",
   "execution_count": 55,
   "metadata": {},
   "outputs": [
    {
     "data": {
      "text/plain": [
       "RandomForestClassifier(criterion='entropy', max_depth=3, max_leaf_nodes=5,\n",
       "                       min_samples_leaf=4, min_samples_split=5, n_estimators=6,\n",
       "                       n_jobs=-1, random_state=0)"
      ]
     },
     "execution_count": 55,
     "metadata": {},
     "output_type": "execute_result"
    }
   ],
   "source": [
    "model2.fit(X_train, y_train)"
   ]
  },
  {
   "cell_type": "markdown",
   "metadata": {},
   "source": [
    "# Using the model for prediction"
   ]
  },
  {
   "cell_type": "code",
   "execution_count": 56,
   "metadata": {},
   "outputs": [],
   "source": [
    "prediction1 = pd.DataFrame()\n",
    "prediction1 = model1.predict(X_test)"
   ]
  },
  {
   "cell_type": "code",
   "execution_count": 57,
   "metadata": {},
   "outputs": [],
   "source": [
    "prediction2 = pd.DataFrame()\n",
    "prediction2 = model2.predict(X_test)"
   ]
  },
  {
   "cell_type": "code",
   "execution_count": 58,
   "metadata": {},
   "outputs": [
    {
     "name": "stdout",
     "output_type": "stream",
     "text": [
      "Accuracy score for test data with model 1 is: 0.9424914747610829\n",
      "Accuracy score for test data with model 2 is: 0.40980086725887255\n"
     ]
    }
   ],
   "source": [
    "from sklearn.metrics import accuracy_score\n",
    "print('Accuracy score for test data with model 1 is:',accuracy_score(y_test, prediction1))\n",
    "print('Accuracy score for test data with model 2 is:',accuracy_score(y_test, prediction2))"
   ]
  },
  {
   "cell_type": "code",
   "execution_count": 59,
   "metadata": {},
   "outputs": [
    {
     "name": "stdout",
     "output_type": "stream",
     "text": [
      "Confusion matrix for test data with model 1 is:\n",
      " [[2314   81    0    4   18   25    1    0]\n",
      " [ 106 2344    1   13   33   90    1    0]\n",
      " [  17  180   96   35   31   51    0    0]\n",
      " [  13   97   12  350    6   81    1    0]\n",
      " [  15  142    1   24 1699  213    3    0]\n",
      " [   1    6    0    0    0 4501    0    0]\n",
      " [   0    1    0    0    0   60 3188    0]\n",
      " [   0    0    0    0    0    0    3 7895]]\n",
      "Confusion matrix for test data with model 2 is:\n",
      " [[ 212   21    0    0   43  606    0 1561]\n",
      " [   1  274    0    0   65  734    0 1514]\n",
      " [   0    2    0    0   12  144    0  252]\n",
      " [   0    0    0    0    0   36    0  524]\n",
      " [   0   76    0    0  131  850    0 1040]\n",
      " [   0  103    0    0    0 1298    0 3107]\n",
      " [   0    2    0    0    0  598    0 2649]\n",
      " [   0    1    0    0    0   78    0 7819]]\n"
     ]
    }
   ],
   "source": [
    "from sklearn.metrics import confusion_matrix\n",
    "print('Confusion matrix for test data with model 1 is:\\n',confusion_matrix(y_test, prediction1))\n",
    "print('Confusion matrix for test data with model 2 is:\\n',confusion_matrix(y_test, prediction2))"
   ]
  },
  {
   "cell_type": "code",
   "execution_count": 60,
   "metadata": {},
   "outputs": [
    {
     "name": "stdout",
     "output_type": "stream",
     "text": [
      "F1_score for test data using model1 is: 0.9424914747610829\n",
      "F1_score for test data using model2 is: 0.40980086725887255\n"
     ]
    }
   ],
   "source": [
    "from sklearn.metrics import f1_score\n",
    "print('F1_score for test data using model1 is:',f1_score(y_test, prediction1,average='micro'))\n",
    "print('F1_score for test data using model2 is:',f1_score(y_test, prediction2, average='micro'))"
   ]
  },
  {
   "cell_type": "code",
   "execution_count": 61,
   "metadata": {},
   "outputs": [
    {
     "name": "stdout",
     "output_type": "stream",
     "text": [
      "Precision score for test data using model1 is: 0.9424914747610829\n",
      "Precision score for test data using model2 is: 0.40980086725887255\n"
     ]
    }
   ],
   "source": [
    "from sklearn.metrics import precision_score\n",
    "precision1 = precision_score(y_test,prediction1,average='micro')\n",
    "print('Precision score for test data using model1 is:', precision1)\n",
    "precision2 = precision_score(y_test,prediction2,average='micro')\n",
    "print('Precision score for test data using model2 is:', precision2)\n"
   ]
  },
  {
   "cell_type": "code",
   "execution_count": 62,
   "metadata": {},
   "outputs": [
    {
     "name": "stdout",
     "output_type": "stream",
     "text": [
      "              precision    recall  f1-score   support\n",
      "\n",
      "           1       0.94      0.95      0.94      2443\n",
      "           2       0.82      0.91      0.86      2588\n",
      "           3       0.87      0.23      0.37       410\n",
      "           4       0.82      0.62      0.71       560\n",
      "           5       0.95      0.81      0.87      2097\n",
      "           6       0.90      1.00      0.94      4508\n",
      "           7       1.00      0.98      0.99      3249\n",
      "           8       1.00      1.00      1.00      7898\n",
      "\n",
      "    accuracy                           0.94     23753\n",
      "   macro avg       0.91      0.81      0.84     23753\n",
      "weighted avg       0.94      0.94      0.94     23753\n",
      "\n"
     ]
    }
   ],
   "source": [
    "from sklearn.metrics import classification_report\n",
    "print(classification_report(y_test,prediction1))"
   ]
  },
  {
   "cell_type": "markdown",
   "metadata": {},
   "source": [
    "## Logistics Regression"
   ]
  },
  {
   "cell_type": "code",
   "execution_count": 180,
   "metadata": {},
   "outputs": [
    {
     "name": "stdout",
     "output_type": "stream",
     "text": [
      "Accuracy score for the Logistic model: 0.6363330189950155\n"
     ]
    }
   ],
   "source": [
    "from sklearn.linear_model import LogisticRegression\n",
    "logis = LogisticRegression(penalty='l2',multi_class='auto')\n",
    "logis.fit(X_train, y_train)\n",
    "y_pred = logis.predict(X_test)\n",
    "logit_accuracy = accuracy_score(y_test,y_pred)\n",
    "print('Accuracy score for the Logistic model:', logit_accuracy)"
   ]
  },
  {
   "cell_type": "markdown",
   "metadata": {},
   "source": [
    "## KNN"
   ]
  },
  {
   "cell_type": "code",
   "execution_count": 181,
   "metadata": {},
   "outputs": [
    {
     "name": "stdout",
     "output_type": "stream",
     "text": [
      "Accuracy score for the KNN model: 0.48733665633840767\n"
     ]
    }
   ],
   "source": [
    "from sklearn.neighbors import KNeighborsClassifier\n",
    "knn = KNeighborsClassifier(n_neighbors=133, p=2, metric='minkowski')\n",
    "knn.fit(X_train, y_train)\n",
    "y_preds = knn.predict(X_test)\n",
    "knn_accuracy = accuracy_score(y_test, y_preds)\n",
    "print('Accuracy score for the KNN model:', knn_accuracy)"
   ]
  },
  {
   "cell_type": "markdown",
   "metadata": {},
   "source": [
    "# End of Model development taking all columns \n",
    "\n",
    "# *******************************************************************************************\n",
    "<hr>"
   ]
  },
  {
   "cell_type": "markdown",
   "metadata": {},
   "source": [
    "# Feature reduction "
   ]
  },
  {
   "cell_type": "code",
   "execution_count": 154,
   "metadata": {},
   "outputs": [
    {
     "data": {
      "text/plain": [
       "Product_Info_4        0.202434\n",
       "Ins_Age               0.209610\n",
       "Wt                    0.351395\n",
       "BMI                   0.381601\n",
       "Medical_History_4     0.239896\n",
       "Medical_History_23    0.286584\n",
       "Medical_History_39    0.220176\n",
       "Medical_Keyword_3     0.257706\n",
       "Medical_Keyword_15    0.259169\n",
       "Response              1.000000\n",
       "Name: Response, dtype: float64"
      ]
     },
     "execution_count": 154,
     "metadata": {},
     "output_type": "execute_result"
    }
   ],
   "source": [
    "#Using Pearson Correlation\n",
    "#plt.figure(figsize=(12,10))\n",
    "cor = data.corr()\n",
    "cor_target=abs(cor['Response'])\n",
    "#print(cor_target)\n",
    "relevant_features=cor_target[cor_target>0.2]\n",
    "relevant_features\n",
    "#sns.heatmap(cor, annot=True, cmap=plt.cm.Reds)\n",
    "#plt.show()"
   ]
  },
  {
   "cell_type": "code",
   "execution_count": 155,
   "metadata": {},
   "outputs": [],
   "source": [
    "# based on output of Pearson Correlation - select only columns with cor >0.2\n",
    "\n",
    "cols=['Product_Info_4','Ins_Age','Wt','BMI','Medical_History_4','Medical_History_23','Medical_History_39','Medical_Keyword_3','Medical_Keyword_15']\n",
    "\n",
    "#cols1=['Product_Info_4','Wt','BMI']\n",
    "XR=data[cols]\n",
    "yr=data['Response']\n",
    "\n"
   ]
  },
  {
   "cell_type": "code",
   "execution_count": 156,
   "metadata": {},
   "outputs": [
    {
     "name": "stdout",
     "output_type": "stream",
     "text": [
      "Shape of X is : (59381, 9)\n",
      "Shape of y is : (59381,)\n"
     ]
    }
   ],
   "source": [
    "print('Shape of X is :', XR.shape)\n",
    "print('Shape of y is :',yr.shape)"
   ]
  },
  {
   "cell_type": "code",
   "execution_count": 157,
   "metadata": {},
   "outputs": [],
   "source": [
    "#splitting the data into 80% train and 20% test\n",
    "\n",
    "from sklearn.model_selection import train_test_split\n",
    "\n",
    "def split(XR,yr):\n",
    "    return train_test_split(XR,yr, test_size=0.3, random_state=0)\n",
    "\n",
    "XR_train, XR_test, yr_train, yr_test=split(XR,yr)"
   ]
  },
  {
   "cell_type": "code",
   "execution_count": 158,
   "metadata": {},
   "outputs": [
    {
     "name": "stdout",
     "output_type": "stream",
     "text": [
      "Shape of X_train is : (41566, 9)\n",
      "Shape of y_train is : (41566,)\n"
     ]
    }
   ],
   "source": [
    "print('Shape of X_train is :', XR_train.shape)\n",
    "print('Shape of y_train is :',yr_train.shape)"
   ]
  },
  {
   "cell_type": "code",
   "execution_count": 159,
   "metadata": {},
   "outputs": [],
   "source": [
    "from sklearn.metrics import accuracy_score,confusion_matrix\n",
    "from sklearn.model_selection import cross_val_score,GridSearchCV\n"
   ]
  },
  {
   "cell_type": "code",
   "execution_count": 178,
   "metadata": {},
   "outputs": [
    {
     "name": "stdout",
     "output_type": "stream",
     "text": [
      "0.5127140050519226\n"
     ]
    }
   ],
   "source": [
    "from sklearn.tree import DecisionTreeClassifier\n",
    "\n",
    "DT=DecisionTreeClassifier(max_depth=8)\n",
    "model_DT=DT.fit(XR_train,yr_train)\n",
    "yr_pred=model_DT.predict(XR_test)\n",
    "print(accuracy_score(yr_test,yr_pred))"
   ]
  },
  {
   "cell_type": "code",
   "execution_count": 179,
   "metadata": {},
   "outputs": [
    {
     "name": "stdout",
     "output_type": "stream",
     "text": [
      "0.5094021891664328\n"
     ]
    }
   ],
   "source": [
    "# Using a Decision Tree classifier \n",
    "from sklearn.tree import DecisionTreeClassifier\n",
    "param_grid={'max_depth':range(1,20,2)}\n",
    "DT=DecisionTreeClassifier()\n",
    "clf_DT=GridSearchCV(DT,param_grid,cv=10,scoring='accuracy',n_jobs=-1).fit(XR_train,yr_train)\n",
    "yr_pred=clf_DT.predict(XR_test)\n",
    "print(accuracy_score(yr_test,yr_pred))"
   ]
  },
  {
   "cell_type": "code",
   "execution_count": 69,
   "metadata": {},
   "outputs": [],
   "source": [
    "from sklearn.ensemble import RandomForestClassifier\n",
    "model3 = RandomForestClassifier(random_state = 0)"
   ]
  },
  {
   "cell_type": "code",
   "execution_count": 70,
   "metadata": {},
   "outputs": [
    {
     "data": {
      "text/plain": [
       "RandomForestClassifier(random_state=0)"
      ]
     },
     "execution_count": 70,
     "metadata": {},
     "output_type": "execute_result"
    }
   ],
   "source": [
    "model3.fit(XR_train,yr_train)"
   ]
  },
  {
   "cell_type": "code",
   "execution_count": 71,
   "metadata": {},
   "outputs": [],
   "source": [
    "prediction3 = pd.DataFrame()\n",
    "prediction3 = model3.predict(XR_test)"
   ]
  },
  {
   "cell_type": "code",
   "execution_count": 72,
   "metadata": {},
   "outputs": [
    {
     "name": "stdout",
     "output_type": "stream",
     "text": [
      "Accuracy score for test data with model 1 is: 0.46887454392365985\n"
     ]
    }
   ],
   "source": [
    "from sklearn.metrics import accuracy_score\n",
    "print('Accuracy score for test data with model 1 is:',accuracy_score(yr_test, prediction3))"
   ]
  },
  {
   "cell_type": "code",
   "execution_count": 73,
   "metadata": {},
   "outputs": [
    {
     "name": "stdout",
     "output_type": "stream",
     "text": [
      "Precision score for test data using model1 is: 0.46887454392365985\n"
     ]
    }
   ],
   "source": [
    "from sklearn.metrics import precision_score\n",
    "precision3 = precision_score(yr_test,prediction3,average='micro')\n",
    "print('Precision score for test data using model1 is:', precision3)"
   ]
  },
  {
   "cell_type": "code",
   "execution_count": null,
   "metadata": {},
   "outputs": [],
   "source": []
  }
 ],
 "metadata": {
  "kernelspec": {
   "display_name": "Python 3",
   "language": "python",
   "name": "python3"
  },
  "language_info": {
   "codemirror_mode": {
    "name": "ipython",
    "version": 3
   },
   "file_extension": ".py",
   "mimetype": "text/x-python",
   "name": "python",
   "nbconvert_exporter": "python",
   "pygments_lexer": "ipython3",
   "version": "3.8.3"
  }
 },
 "nbformat": 4,
 "nbformat_minor": 4
}
